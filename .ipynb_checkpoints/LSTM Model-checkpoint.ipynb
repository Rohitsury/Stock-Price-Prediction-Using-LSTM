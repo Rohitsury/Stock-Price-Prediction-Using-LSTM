{
 "cells": [
  {
   "cell_type": "code",
   "execution_count": 1,
   "id": "81bdb632",
   "metadata": {
    "scrolled": false
   },
   "outputs": [],
   "source": [
    "import numpy as np\n",
    "import pandas as pd\n",
    "import matplotlib.pyplot as plt\n",
    "from pandas_datareader import data as pdr\n",
    "from datetime import datetime\n",
    "import yfinance as yf"
   ]
  },
  {
   "cell_type": "code",
   "execution_count": 5,
   "id": "9dcf34d0",
   "metadata": {},
   "outputs": [
    {
     "name": "stdout",
     "output_type": "stream",
     "text": [
      "[*********************100%***********************]  1 of 1 completed\n"
     ]
    }
   ],
   "source": [
    "yf.pdr_override()\n",
    "start = '2010-1-1'\n",
    "end = '2023-4-5'\n",
    "df = pdr.get_data_yahoo('TCS.NS', start=start,end=end)\n",
    "df = df.reset_index()"
   ]
  },
  {
   "cell_type": "code",
   "execution_count": 6,
   "id": "8a3c4fa8",
   "metadata": {},
   "outputs": [
    {
     "data": {
      "text/html": [
       "<div>\n",
       "<style scoped>\n",
       "    .dataframe tbody tr th:only-of-type {\n",
       "        vertical-align: middle;\n",
       "    }\n",
       "\n",
       "    .dataframe tbody tr th {\n",
       "        vertical-align: top;\n",
       "    }\n",
       "\n",
       "    .dataframe thead th {\n",
       "        text-align: right;\n",
       "    }\n",
       "</style>\n",
       "<table border=\"1\" class=\"dataframe\">\n",
       "  <thead>\n",
       "    <tr style=\"text-align: right;\">\n",
       "      <th></th>\n",
       "      <th>Date</th>\n",
       "      <th>Open</th>\n",
       "      <th>High</th>\n",
       "      <th>Low</th>\n",
       "      <th>Close</th>\n",
       "      <th>Adj Close</th>\n",
       "      <th>Volume</th>\n",
       "    </tr>\n",
       "  </thead>\n",
       "  <tbody>\n",
       "    <tr>\n",
       "      <th>3267</th>\n",
       "      <td>2023-03-27</td>\n",
       "      <td>3135.000000</td>\n",
       "      <td>3152.750000</td>\n",
       "      <td>3106.000000</td>\n",
       "      <td>3122.300049</td>\n",
       "      <td>3122.300049</td>\n",
       "      <td>1524217</td>\n",
       "    </tr>\n",
       "    <tr>\n",
       "      <th>3268</th>\n",
       "      <td>2023-03-28</td>\n",
       "      <td>3127.000000</td>\n",
       "      <td>3149.550049</td>\n",
       "      <td>3110.149902</td>\n",
       "      <td>3115.899902</td>\n",
       "      <td>3115.899902</td>\n",
       "      <td>1303530</td>\n",
       "    </tr>\n",
       "    <tr>\n",
       "      <th>3269</th>\n",
       "      <td>2023-03-29</td>\n",
       "      <td>3129.000000</td>\n",
       "      <td>3150.000000</td>\n",
       "      <td>3104.100098</td>\n",
       "      <td>3138.899902</td>\n",
       "      <td>3138.899902</td>\n",
       "      <td>1740616</td>\n",
       "    </tr>\n",
       "    <tr>\n",
       "      <th>3270</th>\n",
       "      <td>2023-03-31</td>\n",
       "      <td>3189.949951</td>\n",
       "      <td>3213.000000</td>\n",
       "      <td>3152.000000</td>\n",
       "      <td>3205.899902</td>\n",
       "      <td>3205.899902</td>\n",
       "      <td>2382581</td>\n",
       "    </tr>\n",
       "    <tr>\n",
       "      <th>3271</th>\n",
       "      <td>2023-04-03</td>\n",
       "      <td>3224.949951</td>\n",
       "      <td>3224.949951</td>\n",
       "      <td>3173.750000</td>\n",
       "      <td>3200.000000</td>\n",
       "      <td>3200.000000</td>\n",
       "      <td>1521830</td>\n",
       "    </tr>\n",
       "  </tbody>\n",
       "</table>\n",
       "</div>"
      ],
      "text/plain": [
       "           Date         Open         High          Low        Close  \\\n",
       "3267 2023-03-27  3135.000000  3152.750000  3106.000000  3122.300049   \n",
       "3268 2023-03-28  3127.000000  3149.550049  3110.149902  3115.899902   \n",
       "3269 2023-03-29  3129.000000  3150.000000  3104.100098  3138.899902   \n",
       "3270 2023-03-31  3189.949951  3213.000000  3152.000000  3205.899902   \n",
       "3271 2023-04-03  3224.949951  3224.949951  3173.750000  3200.000000   \n",
       "\n",
       "        Adj Close   Volume  \n",
       "3267  3122.300049  1524217  \n",
       "3268  3115.899902  1303530  \n",
       "3269  3138.899902  1740616  \n",
       "3270  3205.899902  2382581  \n",
       "3271  3200.000000  1521830  "
      ]
     },
     "execution_count": 6,
     "metadata": {},
     "output_type": "execute_result"
    }
   ],
   "source": [
    "df.tail()"
   ]
  },
  {
   "cell_type": "code",
   "execution_count": 17,
   "id": "1745ac7e",
   "metadata": {},
   "outputs": [
    {
     "data": {
      "text/html": [
       "<div>\n",
       "<style scoped>\n",
       "    .dataframe tbody tr th:only-of-type {\n",
       "        vertical-align: middle;\n",
       "    }\n",
       "\n",
       "    .dataframe tbody tr th {\n",
       "        vertical-align: top;\n",
       "    }\n",
       "\n",
       "    .dataframe thead th {\n",
       "        text-align: right;\n",
       "    }\n",
       "</style>\n",
       "<table border=\"1\" class=\"dataframe\">\n",
       "  <thead>\n",
       "    <tr style=\"text-align: right;\">\n",
       "      <th></th>\n",
       "      <th>Open</th>\n",
       "      <th>High</th>\n",
       "      <th>Low</th>\n",
       "      <th>Close</th>\n",
       "      <th>Volume</th>\n",
       "    </tr>\n",
       "  </thead>\n",
       "  <tbody>\n",
       "    <tr>\n",
       "      <th>0</th>\n",
       "      <td>7.622500</td>\n",
       "      <td>7.660714</td>\n",
       "      <td>7.585000</td>\n",
       "      <td>7.643214</td>\n",
       "      <td>493729600</td>\n",
       "    </tr>\n",
       "    <tr>\n",
       "      <th>1</th>\n",
       "      <td>7.664286</td>\n",
       "      <td>7.699643</td>\n",
       "      <td>7.616071</td>\n",
       "      <td>7.656429</td>\n",
       "      <td>601904800</td>\n",
       "    </tr>\n",
       "    <tr>\n",
       "      <th>2</th>\n",
       "      <td>7.656429</td>\n",
       "      <td>7.686786</td>\n",
       "      <td>7.526786</td>\n",
       "      <td>7.534643</td>\n",
       "      <td>552160000</td>\n",
       "    </tr>\n",
       "    <tr>\n",
       "      <th>3</th>\n",
       "      <td>7.562500</td>\n",
       "      <td>7.571429</td>\n",
       "      <td>7.466071</td>\n",
       "      <td>7.520714</td>\n",
       "      <td>477131200</td>\n",
       "    </tr>\n",
       "    <tr>\n",
       "      <th>4</th>\n",
       "      <td>7.510714</td>\n",
       "      <td>7.571429</td>\n",
       "      <td>7.466429</td>\n",
       "      <td>7.570714</td>\n",
       "      <td>447610800</td>\n",
       "    </tr>\n",
       "  </tbody>\n",
       "</table>\n",
       "</div>"
      ],
      "text/plain": [
       "       Open      High       Low     Close     Volume\n",
       "0  7.622500  7.660714  7.585000  7.643214  493729600\n",
       "1  7.664286  7.699643  7.616071  7.656429  601904800\n",
       "2  7.656429  7.686786  7.526786  7.534643  552160000\n",
       "3  7.562500  7.571429  7.466071  7.520714  477131200\n",
       "4  7.510714  7.571429  7.466429  7.570714  447610800"
      ]
     },
     "execution_count": 17,
     "metadata": {},
     "output_type": "execute_result"
    }
   ],
   "source": [
    "df = df.drop(['Date','Adj Close'], axis =1)\n",
    "df.head()"
   ]
  },
  {
   "cell_type": "code",
   "execution_count": 18,
   "id": "c6cbabb2",
   "metadata": {},
   "outputs": [
    {
     "data": {
      "text/plain": [
       "[<matplotlib.lines.Line2D at 0x20c63e97f10>]"
      ]
     },
     "execution_count": 18,
     "metadata": {},
     "output_type": "execute_result"
    },
    {
     "data": {
      "image/png": "[encoded data removed]",
      "text/plain": [
       "<Figure size 640x480 with 1 Axes>"
      ]
     },
     "metadata": {},
     "output_type": "display_data"
    }
   ],
   "source": [
    "plt.plot(df.Close)"
   ]
  },
  {
   "cell_type": "code",
   "execution_count": 19,
   "id": "8cf20789",
   "metadata": {},
   "outputs": [
    {
     "data": {
      "text/plain": [
       "0              NaN\n",
       "1              NaN\n",
       "2              NaN\n",
       "3              NaN\n",
       "4              NaN\n",
       "           ...    \n",
       "3331    144.833499\n",
       "3332    145.068299\n",
       "3333    145.333499\n",
       "3334    145.605999\n",
       "3335    145.867299\n",
       "Name: Close, Length: 3336, dtype: float64"
      ]
     },
     "execution_count": 19,
     "metadata": {},
     "output_type": "execute_result"
    }
   ],
   "source": [
    "ma100 = df.Close.rolling(100).mean()\n",
    "ma100"
   ]
  },
  {
   "cell_type": "code",
   "execution_count": 20,
   "id": "2804cb40",
   "metadata": {},
   "outputs": [
    {
     "data": {
      "text/plain": [
       "[<matplotlib.lines.Line2D at 0x20c64239290>]"
      ]
     },
     "execution_count": 20,
     "metadata": {},
     "output_type": "execute_result"
    },
    {
     "data": {
      "image/png": "[encoded data removed]",
      "text/plain": [
       "<Figure size 1200x600 with 1 Axes>"
      ]
     },
     "metadata": {},
     "output_type": "display_data"
    }
   ],
   "source": [
    "plt.figure(figsize = (12,6))\n",
    "plt.plot(df.Close)\n",
    "plt.plot(ma100, 'r')"
   ]
  },
  {
   "cell_type": "code",
   "execution_count": 21,
   "id": "28bd378c",
   "metadata": {},
   "outputs": [
    {
     "data": {
      "text/plain": [
       "0              NaN\n",
       "1              NaN\n",
       "2              NaN\n",
       "3              NaN\n",
       "4              NaN\n",
       "           ...    \n",
       "3331    148.185149\n",
       "3332    148.337549\n",
       "3333    148.498249\n",
       "3334    148.651950\n",
       "3335    148.829800\n",
       "Name: Close, Length: 3336, dtype: float64"
      ]
     },
     "execution_count": 21,
     "metadata": {},
     "output_type": "execute_result"
    }
   ],
   "source": [
    "ma200 = df.Close.rolling(200).mean()\n",
    "ma200"
   ]
  },
  {
   "cell_type": "code",
   "execution_count": 22,
   "id": "81b79d1c",
   "metadata": {},
   "outputs": [
    {
     "data": {
      "text/plain": [
       "[<matplotlib.lines.Line2D at 0x20c642ba510>]"
      ]
     },
     "execution_count": 22,
     "metadata": {},
     "output_type": "execute_result"
    },
    {
     "data": {
      "image/png": "[encoded data removed]",
      "text/plain": [
       "<Figure size 1200x600 with 1 Axes>"
      ]
     },
     "metadata": {},
     "output_type": "display_data"
    }
   ],
   "source": [
    "plt.figure(figsize = (12,6))\n",
    "plt.plot(df.Close)\n",
    "plt.plot(ma100, 'r')\n",
    "plt.plot(ma200,'g')"
   ]
  },
  {
   "cell_type": "code",
   "execution_count": 23,
   "id": "b148f270",
   "metadata": {},
   "outputs": [
    {
     "data": {
      "text/html": [
       "<div>\n",
       "<style scoped>\n",
       "    .dataframe tbody tr th:only-of-type {\n",
       "        vertical-align: middle;\n",
       "    }\n",
       "\n",
       "    .dataframe tbody tr th {\n",
       "        vertical-align: top;\n",
       "    }\n",
       "\n",
       "    .dataframe thead th {\n",
       "        text-align: right;\n",
       "    }\n",
       "</style>\n",
       "<table border=\"1\" class=\"dataframe\">\n",
       "  <thead>\n",
       "    <tr style=\"text-align: right;\">\n",
       "      <th></th>\n",
       "      <th>Open</th>\n",
       "      <th>High</th>\n",
       "      <th>Low</th>\n",
       "      <th>Close</th>\n",
       "      <th>Volume</th>\n",
       "    </tr>\n",
       "  </thead>\n",
       "  <tbody>\n",
       "    <tr>\n",
       "      <th>0</th>\n",
       "      <td>7.622500</td>\n",
       "      <td>7.660714</td>\n",
       "      <td>7.585000</td>\n",
       "      <td>7.643214</td>\n",
       "      <td>493729600</td>\n",
       "    </tr>\n",
       "    <tr>\n",
       "      <th>1</th>\n",
       "      <td>7.664286</td>\n",
       "      <td>7.699643</td>\n",
       "      <td>7.616071</td>\n",
       "      <td>7.656429</td>\n",
       "      <td>601904800</td>\n",
       "    </tr>\n",
       "    <tr>\n",
       "      <th>2</th>\n",
       "      <td>7.656429</td>\n",
       "      <td>7.686786</td>\n",
       "      <td>7.526786</td>\n",
       "      <td>7.534643</td>\n",
       "      <td>552160000</td>\n",
       "    </tr>\n",
       "    <tr>\n",
       "      <th>3</th>\n",
       "      <td>7.562500</td>\n",
       "      <td>7.571429</td>\n",
       "      <td>7.466071</td>\n",
       "      <td>7.520714</td>\n",
       "      <td>477131200</td>\n",
       "    </tr>\n",
       "    <tr>\n",
       "      <th>4</th>\n",
       "      <td>7.510714</td>\n",
       "      <td>7.571429</td>\n",
       "      <td>7.466429</td>\n",
       "      <td>7.570714</td>\n",
       "      <td>447610800</td>\n",
       "    </tr>\n",
       "    <tr>\n",
       "      <th>...</th>\n",
       "      <td>...</td>\n",
       "      <td>...</td>\n",
       "      <td>...</td>\n",
       "      <td>...</td>\n",
       "      <td>...</td>\n",
       "    </tr>\n",
       "    <tr>\n",
       "      <th>3331</th>\n",
       "      <td>159.369995</td>\n",
       "      <td>161.050003</td>\n",
       "      <td>159.350006</td>\n",
       "      <td>160.770004</td>\n",
       "      <td>51305700</td>\n",
       "    </tr>\n",
       "    <tr>\n",
       "      <th>3332</th>\n",
       "      <td>161.529999</td>\n",
       "      <td>162.470001</td>\n",
       "      <td>161.270004</td>\n",
       "      <td>162.360001</td>\n",
       "      <td>49501700</td>\n",
       "    </tr>\n",
       "    <tr>\n",
       "      <th>3333</th>\n",
       "      <td>162.440002</td>\n",
       "      <td>165.000000</td>\n",
       "      <td>161.910004</td>\n",
       "      <td>164.899994</td>\n",
       "      <td>68694700</td>\n",
       "    </tr>\n",
       "    <tr>\n",
       "      <th>3334</th>\n",
       "      <td>164.270004</td>\n",
       "      <td>166.289993</td>\n",
       "      <td>164.220001</td>\n",
       "      <td>166.169998</td>\n",
       "      <td>56976200</td>\n",
       "    </tr>\n",
       "    <tr>\n",
       "      <th>3335</th>\n",
       "      <td>166.600006</td>\n",
       "      <td>166.839996</td>\n",
       "      <td>165.110001</td>\n",
       "      <td>165.630005</td>\n",
       "      <td>46278300</td>\n",
       "    </tr>\n",
       "  </tbody>\n",
       "</table>\n",
       "<p>3336 rows × 5 columns</p>\n",
       "</div>"
      ],
      "text/plain": [
       "            Open        High         Low       Close     Volume\n",
       "0       7.622500    7.660714    7.585000    7.643214  493729600\n",
       "1       7.664286    7.699643    7.616071    7.656429  601904800\n",
       "2       7.656429    7.686786    7.526786    7.534643  552160000\n",
       "3       7.562500    7.571429    7.466071    7.520714  477131200\n",
       "4       7.510714    7.571429    7.466429    7.570714  447610800\n",
       "...          ...         ...         ...         ...        ...\n",
       "3331  159.369995  161.050003  159.350006  160.770004   51305700\n",
       "3332  161.529999  162.470001  161.270004  162.360001   49501700\n",
       "3333  162.440002  165.000000  161.910004  164.899994   68694700\n",
       "3334  164.270004  166.289993  164.220001  166.169998   56976200\n",
       "3335  166.600006  166.839996  165.110001  165.630005   46278300\n",
       "\n",
       "[3336 rows x 5 columns]"
      ]
     },
     "execution_count": 23,
     "metadata": {},
     "output_type": "execute_result"
    }
   ],
   "source": [
    "df.shape\n",
    "df"
   ]
  },
  {
   "cell_type": "code",
   "execution_count": 24,
   "id": "0e93a02f",
   "metadata": {
    "scrolled": true
   },
   "outputs": [],
   "source": [
    "df = pd.DataFrame(df['Close'])"
   ]
  },
  {
   "cell_type": "code",
   "execution_count": 25,
   "id": "a5e62902",
   "metadata": {},
   "outputs": [],
   "source": [
    "# Split data into training and testing\n",
    "data_training = pd.DataFrame(df['Close'][0:int(len(df)*0.70)])\n",
    "data_testing = pd.DataFrame(df['Close'][int(len(df)*0.70):int(len(df))])\n",
    "\n",
    "# data_training_close = pd.DataFrame(df['Close'][0:int(len(df)*0.70)])\n",
    "# data_testing_close = pd.DataFrame(df['Close'][int(len(df)*0.70):int(len(df))])\n",
    "\n",
    "# data_training_high = pd.DataFrame(df['High'][0:int(len(df)*0.70)])\n",
    "# data_testing_high = pd.DataFrame(df['High'][int(len(df)*0.70):int(len(df))])\n",
    "\n",
    "# data_training_low = pd.DataFrame(df['Low'][0:int(len(df)*0.70)])\n",
    "# data_testing_low = pd.DataFrame(df['Low'][int(len(df)*0.70):int(len(df))])\n"
   ]
  },
  {
   "cell_type": "code",
   "execution_count": 26,
   "id": "902e4b27",
   "metadata": {},
   "outputs": [
    {
     "name": "stdout",
     "output_type": "stream",
     "text": [
      "          Close\n",
      "2330  50.025002\n",
      "2331  49.875000\n",
      "2332  50.154999\n",
      "2333  49.737499\n",
      "2334  49.717499\n",
      "          Close\n",
      "2330  50.025002\n",
      "2331  49.875000\n",
      "2332  50.154999\n",
      "2333  49.737499\n",
      "2334  49.717499\n"
     ]
    }
   ],
   "source": [
    "print(data_training.tail())\n",
    "print(data_training.tail())\n"
   ]
  },
  {
   "cell_type": "code",
   "execution_count": 27,
   "id": "4d733eaa",
   "metadata": {},
   "outputs": [
    {
     "data": {
      "text/html": [
       "<div>\n",
       "<style scoped>\n",
       "    .dataframe tbody tr th:only-of-type {\n",
       "        vertical-align: middle;\n",
       "    }\n",
       "\n",
       "    .dataframe tbody tr th {\n",
       "        vertical-align: top;\n",
       "    }\n",
       "\n",
       "    .dataframe thead th {\n",
       "        text-align: right;\n",
       "    }\n",
       "</style>\n",
       "<table border=\"1\" class=\"dataframe\">\n",
       "  <thead>\n",
       "    <tr style=\"text-align: right;\">\n",
       "      <th></th>\n",
       "      <th>Close</th>\n",
       "    </tr>\n",
       "  </thead>\n",
       "  <tbody>\n",
       "    <tr>\n",
       "      <th>2335</th>\n",
       "      <td>49.807499</td>\n",
       "    </tr>\n",
       "    <tr>\n",
       "      <th>2336</th>\n",
       "      <td>49.812500</td>\n",
       "    </tr>\n",
       "    <tr>\n",
       "      <th>2337</th>\n",
       "      <td>50.782501</td>\n",
       "    </tr>\n",
       "    <tr>\n",
       "      <th>2338</th>\n",
       "      <td>50.965000</td>\n",
       "    </tr>\n",
       "    <tr>\n",
       "      <th>2339</th>\n",
       "      <td>51.132500</td>\n",
       "    </tr>\n",
       "  </tbody>\n",
       "</table>\n",
       "</div>"
      ],
      "text/plain": [
       "          Close\n",
       "2335  49.807499\n",
       "2336  49.812500\n",
       "2337  50.782501\n",
       "2338  50.965000\n",
       "2339  51.132500"
      ]
     },
     "execution_count": 27,
     "metadata": {},
     "output_type": "execute_result"
    }
   ],
   "source": [
    "data_testing.head()"
   ]
  },
  {
   "cell_type": "code",
   "execution_count": 28,
   "id": "a2b660df",
   "metadata": {},
   "outputs": [],
   "source": [
    "from sklearn.preprocessing import MinMaxScaler\n",
    "scaler = MinMaxScaler(feature_range=(0,1))"
   ]
  },
  {
   "cell_type": "code",
   "execution_count": 29,
   "id": "66905e9d",
   "metadata": {},
   "outputs": [],
   "source": [
    "data_training_array = scaler.fit_transform(data_training)\n",
    "\n",
    "\n"
   ]
  },
  {
   "cell_type": "code",
   "execution_count": 30,
   "id": "52814fa1",
   "metadata": {},
   "outputs": [
    {
     "data": {
      "text/plain": [
       "array([[[0.01533047],\n",
       "        [0.01558878],\n",
       "        [0.01320823],\n",
       "        ...,\n",
       "        [0.03819355],\n",
       "        [0.03711847],\n",
       "        [0.03634356]],\n",
       "\n",
       "       [[0.01558878],\n",
       "        [0.01320823],\n",
       "        [0.01293595],\n",
       "        ...,\n",
       "        [0.03711847],\n",
       "        [0.03634356],\n",
       "        [0.04279409]],\n",
       "\n",
       "       [[0.01320823],\n",
       "        [0.01293595],\n",
       "        [0.01391331],\n",
       "        ...,\n",
       "        [0.03634356],\n",
       "        [0.04279409],\n",
       "        [0.04525843]],\n",
       "\n",
       "       ...,\n",
       "\n",
       "       [[0.80531117],\n",
       "        [0.77877606],\n",
       "        [0.80130406],\n",
       "        ...,\n",
       "        [0.82862106],\n",
       "        [0.84377007],\n",
       "        [0.84083798]],\n",
       "\n",
       "       [[0.77877606],\n",
       "        [0.80130406],\n",
       "        [0.81166398],\n",
       "        ...,\n",
       "        [0.84377007],\n",
       "        [0.84083798],\n",
       "        [0.84631113]],\n",
       "\n",
       "       [[0.80130406],\n",
       "        [0.81166398],\n",
       "        [0.77418249],\n",
       "        ...,\n",
       "        [0.84083798],\n",
       "        [0.84631113],\n",
       "        [0.83815024]]])"
      ]
     },
     "execution_count": 30,
     "metadata": {},
     "output_type": "execute_result"
    }
   ],
   "source": [
    "x_train = []\n",
    "y_train = []\n",
    "\n",
    "for i in range(100, data_training_array.shape[0]):\n",
    "    x_train.append(data_training_array[i-100:i])\n",
    "    y_train.append(data_training_array[i,0])\n",
    "\n",
    "x_train, y_train = np.array(x_train), np.array(y_train)\n",
    "\n",
    "x_train"
   ]
  },
  {
   "cell_type": "code",
   "execution_count": 31,
   "id": "867badf8",
   "metadata": {},
   "outputs": [],
   "source": [
    "from keras.layers import Dense, Dropout, LSTM\n",
    "from keras.models import Sequential\n",
    "from keras.layers import Reshape"
   ]
  },
  {
   "cell_type": "code",
   "execution_count": 32,
   "id": "078e6530",
   "metadata": {},
   "outputs": [
    {
     "name": "stdout",
     "output_type": "stream",
     "text": [
      "Model: \"sequential\"\n",
      "_________________________________________________________________\n",
      " Layer (type)                Output Shape              Param #   \n",
      "=================================================================\n",
      " lstm (LSTM)                 (None, 100, 50)           10400     \n",
      "                                                                 \n",
      " dropout (Dropout)           (None, 100, 50)           0         \n",
      "                                                                 \n",
      " lstm_1 (LSTM)               (None, 100, 60)           26640     \n",
      "                                                                 \n",
      " dropout_1 (Dropout)         (None, 100, 60)           0         \n",
      "                                                                 \n",
      " lstm_2 (LSTM)               (None, 100, 80)           45120     \n",
      "                                                                 \n",
      " dropout_2 (Dropout)         (None, 100, 80)           0         \n",
      "                                                                 \n",
      " lstm_3 (LSTM)               (None, 20)                8080      \n",
      "                                                                 \n",
      " dropout_3 (Dropout)         (None, 20)                0         \n",
      "                                                                 \n",
      " dense (Dense)               (None, 1)                 21        \n",
      "                                                                 \n",
      "=================================================================\n",
      "Total params: 90,261\n",
      "Trainable params: 90,261\n",
      "Non-trainable params: 0\n",
      "_________________________________________________________________\n"
     ]
    }
   ],
   "source": [
    "model = Sequential()\n",
    "\n",
    "model.add(LSTM(units=50, activation=\"relu\", return_sequences = True, input_shape= (x_train.shape[1],1)))\n",
    "model.add(Dropout(0.2))\n",
    "\n",
    "model.add(LSTM(units=60, activation=\"relu\", return_sequences = True))\n",
    "model.add(Dropout(0.3))\n",
    "\n",
    "model.add(LSTM(units=80, activation=\"relu\", return_sequences = True))\n",
    "model.add(Dropout(0.4))\n",
    "\n",
    "model.add(LSTM(units=20, activation=\"relu\"))\n",
    "model.add(Dropout(0.5))\n",
    "\n",
    "model.add(Dense(units = 1))\n",
    "\n",
    "model.summary()\n"
   ]
  },
  {
   "cell_type": "code",
   "execution_count": 33,
   "id": "2a1a425c",
   "metadata": {},
   "outputs": [
    {
     "name": "stdout",
     "output_type": "stream",
     "text": [
      "Epoch 1/50\n",
      "70/70 [==============================] - 26s 225ms/step - loss: 0.0826\n",
      "Epoch 2/50\n",
      "70/70 [==============================] - 19s 269ms/step - loss: 0.0264\n",
      "Epoch 3/50\n",
      "70/70 [==============================] - 22s 321ms/step - loss: 0.0229\n",
      "Epoch 4/50\n",
      "70/70 [==============================] - 23s 328ms/step - loss: 0.0207\n",
      "Epoch 5/50\n",
      "70/70 [==============================] - 17s 240ms/step - loss: 0.0189\n",
      "Epoch 6/50\n",
      "70/70 [==============================] - 16s 232ms/step - loss: 0.0151\n",
      "Epoch 7/50\n",
      "70/70 [==============================] - 16s 233ms/step - loss: 0.0148\n",
      "Epoch 8/50\n",
      "70/70 [==============================] - 16s 227ms/step - loss: 0.0130\n",
      "Epoch 9/50\n",
      "70/70 [==============================] - 17s 237ms/step - loss: 0.0112\n",
      "Epoch 10/50\n",
      "70/70 [==============================] - 16s 231ms/step - loss: 0.0110\n",
      "Epoch 11/50\n",
      "70/70 [==============================] - 18s 257ms/step - loss: 0.0100\n",
      "Epoch 12/50\n",
      "70/70 [==============================] - 16s 235ms/step - loss: 0.0092\n",
      "Epoch 13/50\n",
      "70/70 [==============================] - 16s 225ms/step - loss: 0.0096\n",
      "Epoch 14/50\n",
      "70/70 [==============================] - 16s 221ms/step - loss: 0.0084\n",
      "Epoch 15/50\n",
      "70/70 [==============================] - 17s 246ms/step - loss: 0.0072\n",
      "Epoch 16/50\n",
      "70/70 [==============================] - 16s 235ms/step - loss: 0.0074\n",
      "Epoch 17/50\n",
      "70/70 [==============================] - 17s 238ms/step - loss: 0.0074\n",
      "Epoch 18/50\n",
      "70/70 [==============================] - 18s 257ms/step - loss: 0.0082\n",
      "Epoch 19/50\n",
      "70/70 [==============================] - 17s 236ms/step - loss: 0.0075\n",
      "Epoch 20/50\n",
      "70/70 [==============================] - 17s 239ms/step - loss: 0.0067\n",
      "Epoch 21/50\n",
      "70/70 [==============================] - 28s 405ms/step - loss: 0.0068\n",
      "Epoch 22/50\n",
      "70/70 [==============================] - 22s 312ms/step - loss: 0.0073\n",
      "Epoch 23/50\n",
      "70/70 [==============================] - 18s 257ms/step - loss: 0.0069\n",
      "Epoch 24/50\n",
      "70/70 [==============================] - 17s 242ms/step - loss: 0.0069\n",
      "Epoch 25/50\n",
      "70/70 [==============================] - 17s 247ms/step - loss: 0.0068\n",
      "Epoch 26/50\n",
      "70/70 [==============================] - 18s 256ms/step - loss: 0.0068\n",
      "Epoch 27/50\n",
      "70/70 [==============================] - 18s 254ms/step - loss: 0.0070\n",
      "Epoch 28/50\n",
      "70/70 [==============================] - 16s 231ms/step - loss: 0.0067\n",
      "Epoch 29/50\n",
      "70/70 [==============================] - 18s 254ms/step - loss: 0.0068\n",
      "Epoch 30/50\n",
      "70/70 [==============================] - 16s 224ms/step - loss: 0.0070\n",
      "Epoch 31/50\n",
      "70/70 [==============================] - 15s 219ms/step - loss: 0.0068\n",
      "Epoch 32/50\n",
      "70/70 [==============================] - 15s 209ms/step - loss: 0.0073\n",
      "Epoch 33/50\n",
      "70/70 [==============================] - 16s 229ms/step - loss: 0.0063\n",
      "Epoch 34/50\n",
      "70/70 [==============================] - 15s 221ms/step - loss: 0.0070\n",
      "Epoch 35/50\n",
      "70/70 [==============================] - 16s 221ms/step - loss: 0.0071\n",
      "Epoch 36/50\n",
      "70/70 [==============================] - 15s 214ms/step - loss: 0.0065\n",
      "Epoch 37/50\n",
      "70/70 [==============================] - 15s 215ms/step - loss: 0.0067\n",
      "Epoch 38/50\n",
      "70/70 [==============================] - 15s 217ms/step - loss: 0.0067\n",
      "Epoch 39/50\n",
      "70/70 [==============================] - 15s 214ms/step - loss: 0.0068\n",
      "Epoch 40/50\n",
      "70/70 [==============================] - 15s 216ms/step - loss: 0.0065\n",
      "Epoch 41/50\n",
      "70/70 [==============================] - 15s 213ms/step - loss: 0.0068\n",
      "Epoch 42/50\n",
      "70/70 [==============================] - 16s 224ms/step - loss: 0.0068\n",
      "Epoch 43/50\n",
      "70/70 [==============================] - 15s 214ms/step - loss: 0.0068\n",
      "Epoch 44/50\n",
      "70/70 [==============================] - 18s 255ms/step - loss: 0.0068\n",
      "Epoch 45/50\n",
      "70/70 [==============================] - 17s 236ms/step - loss: 0.0069\n",
      "Epoch 46/50\n",
      "70/70 [==============================] - 16s 234ms/step - loss: 0.0064\n",
      "Epoch 47/50\n",
      "70/70 [==============================] - 15s 218ms/step - loss: 0.0068\n",
      "Epoch 48/50\n",
      "70/70 [==============================] - 15s 219ms/step - loss: 0.0068\n",
      "Epoch 49/50\n",
      "70/70 [==============================] - 16s 228ms/step - loss: 0.0065\n",
      "Epoch 50/50\n",
      "70/70 [==============================] - 15s 215ms/step - loss: 0.0060\n"
     ]
    },
    {
     "data": {
      "text/plain": [
       "<keras.callbacks.History at 0x20c74951d90>"
      ]
     },
     "execution_count": 33,
     "metadata": {},
     "output_type": "execute_result"
    }
   ],
   "source": [
    "model.compile(optimizer='adam',loss='mean_squared_error')\n",
    "model.fit(x_train, y_train, epochs = 50)"
   ]
  },
  {
   "cell_type": "code",
   "execution_count": 34,
   "id": "9accf8ed",
   "metadata": {},
   "outputs": [],
   "source": [
    "model.save('LSTM_model.h5')"
   ]
  },
  {
   "cell_type": "code",
   "execution_count": 57,
   "id": "19bc8023",
   "metadata": {},
   "outputs": [
    {
     "data": {
      "text/html": [
       "<div>\n",
       "<style scoped>\n",
       "    .dataframe tbody tr th:only-of-type {\n",
       "        vertical-align: middle;\n",
       "    }\n",
       "\n",
       "    .dataframe tbody tr th {\n",
       "        vertical-align: top;\n",
       "    }\n",
       "\n",
       "    .dataframe thead th {\n",
       "        text-align: right;\n",
       "    }\n",
       "</style>\n",
       "<table border=\"1\" class=\"dataframe\">\n",
       "  <thead>\n",
       "    <tr style=\"text-align: right;\">\n",
       "      <th></th>\n",
       "      <th>Close</th>\n",
       "    </tr>\n",
       "  </thead>\n",
       "  <tbody>\n",
       "    <tr>\n",
       "      <th>2335</th>\n",
       "      <td>49.807499</td>\n",
       "    </tr>\n",
       "    <tr>\n",
       "      <th>2336</th>\n",
       "      <td>49.812500</td>\n",
       "    </tr>\n",
       "    <tr>\n",
       "      <th>2337</th>\n",
       "      <td>50.782501</td>\n",
       "    </tr>\n",
       "    <tr>\n",
       "      <th>2338</th>\n",
       "      <td>50.965000</td>\n",
       "    </tr>\n",
       "    <tr>\n",
       "      <th>2339</th>\n",
       "      <td>51.132500</td>\n",
       "    </tr>\n",
       "  </tbody>\n",
       "</table>\n",
       "</div>"
      ],
      "text/plain": [
       "          Close\n",
       "2335  49.807499\n",
       "2336  49.812500\n",
       "2337  50.782501\n",
       "2338  50.965000\n",
       "2339  51.132500"
      ]
     },
     "execution_count": 57,
     "metadata": {},
     "output_type": "execute_result"
    }
   ],
   "source": [
    "data_testing.head()"
   ]
  },
  {
   "cell_type": "code",
   "execution_count": 58,
   "id": "aa4d847c",
   "metadata": {},
   "outputs": [
    {
     "data": {
      "text/html": [
       "<div>\n",
       "<style scoped>\n",
       "    .dataframe tbody tr th:only-of-type {\n",
       "        vertical-align: middle;\n",
       "    }\n",
       "\n",
       "    .dataframe tbody tr th {\n",
       "        vertical-align: top;\n",
       "    }\n",
       "\n",
       "    .dataframe thead th {\n",
       "        text-align: right;\n",
       "    }\n",
       "</style>\n",
       "<table border=\"1\" class=\"dataframe\">\n",
       "  <thead>\n",
       "    <tr style=\"text-align: right;\">\n",
       "      <th></th>\n",
       "      <th>Close</th>\n",
       "    </tr>\n",
       "  </thead>\n",
       "  <tbody>\n",
       "    <tr>\n",
       "      <th>2235</th>\n",
       "      <td>48.382500</td>\n",
       "    </tr>\n",
       "    <tr>\n",
       "      <th>2236</th>\n",
       "      <td>46.465000</td>\n",
       "    </tr>\n",
       "    <tr>\n",
       "      <th>2237</th>\n",
       "      <td>44.244999</td>\n",
       "    </tr>\n",
       "    <tr>\n",
       "      <th>2238</th>\n",
       "      <td>44.195000</td>\n",
       "    </tr>\n",
       "    <tr>\n",
       "      <th>2239</th>\n",
       "      <td>43.072498</td>\n",
       "    </tr>\n",
       "    <tr>\n",
       "      <th>...</th>\n",
       "      <td>...</td>\n",
       "    </tr>\n",
       "    <tr>\n",
       "      <th>2330</th>\n",
       "      <td>50.025002</td>\n",
       "    </tr>\n",
       "    <tr>\n",
       "      <th>2331</th>\n",
       "      <td>49.875000</td>\n",
       "    </tr>\n",
       "    <tr>\n",
       "      <th>2332</th>\n",
       "      <td>50.154999</td>\n",
       "    </tr>\n",
       "    <tr>\n",
       "      <th>2333</th>\n",
       "      <td>49.737499</td>\n",
       "    </tr>\n",
       "    <tr>\n",
       "      <th>2334</th>\n",
       "      <td>49.717499</td>\n",
       "    </tr>\n",
       "  </tbody>\n",
       "</table>\n",
       "<p>100 rows × 1 columns</p>\n",
       "</div>"
      ],
      "text/plain": [
       "          Close\n",
       "2235  48.382500\n",
       "2236  46.465000\n",
       "2237  44.244999\n",
       "2238  44.195000\n",
       "2239  43.072498\n",
       "...         ...\n",
       "2330  50.025002\n",
       "2331  49.875000\n",
       "2332  50.154999\n",
       "2333  49.737499\n",
       "2334  49.717499\n",
       "\n",
       "[100 rows x 1 columns]"
      ]
     },
     "execution_count": 58,
     "metadata": {},
     "output_type": "execute_result"
    }
   ],
   "source": [
    "data_training.tail(100)"
   ]
  },
  {
   "cell_type": "code",
   "execution_count": 59,
   "id": "32c07a56",
   "metadata": {},
   "outputs": [
    {
     "name": "stdout",
     "output_type": "stream",
     "text": [
      "          Close\n",
      "2235  48.382500\n",
      "2236  46.465000\n",
      "2237  44.244999\n",
      "2238  44.195000\n",
      "2239  43.072498\n",
      "...         ...\n",
      "2330  50.025002\n",
      "2331  49.875000\n",
      "2332  50.154999\n",
      "2333  49.737499\n",
      "2334  49.717499\n",
      "\n",
      "[100 rows x 1 columns]\n"
     ]
    }
   ],
   "source": [
    "past_100_days = data_training.tail(100)\n",
    "print(past_100_days)\n"
   ]
  },
  {
   "cell_type": "code",
   "execution_count": 60,
   "id": "256ef233",
   "metadata": {},
   "outputs": [
    {
     "name": "stderr",
     "output_type": "stream",
     "text": [
      "C:\\Users\\hp\\AppData\\Local\\Temp\\ipykernel_4072\\3013218201.py:1: FutureWarning: The frame.append method is deprecated and will be removed from pandas in a future version. Use pandas.concat instead.\n",
      "  final_df = past_100_days.append(data_testing, ignore_index = True)\n"
     ]
    },
    {
     "data": {
      "text/html": [
       "<div>\n",
       "<style scoped>\n",
       "    .dataframe tbody tr th:only-of-type {\n",
       "        vertical-align: middle;\n",
       "    }\n",
       "\n",
       "    .dataframe tbody tr th {\n",
       "        vertical-align: top;\n",
       "    }\n",
       "\n",
       "    .dataframe thead th {\n",
       "        text-align: right;\n",
       "    }\n",
       "</style>\n",
       "<table border=\"1\" class=\"dataframe\">\n",
       "  <thead>\n",
       "    <tr style=\"text-align: right;\">\n",
       "      <th></th>\n",
       "      <th>Close</th>\n",
       "    </tr>\n",
       "  </thead>\n",
       "  <tbody>\n",
       "    <tr>\n",
       "      <th>2335</th>\n",
       "      <td>49.807499</td>\n",
       "    </tr>\n",
       "    <tr>\n",
       "      <th>2336</th>\n",
       "      <td>49.812500</td>\n",
       "    </tr>\n",
       "    <tr>\n",
       "      <th>2337</th>\n",
       "      <td>50.782501</td>\n",
       "    </tr>\n",
       "    <tr>\n",
       "      <th>2338</th>\n",
       "      <td>50.965000</td>\n",
       "    </tr>\n",
       "    <tr>\n",
       "      <th>2339</th>\n",
       "      <td>51.132500</td>\n",
       "    </tr>\n",
       "    <tr>\n",
       "      <th>...</th>\n",
       "      <td>...</td>\n",
       "    </tr>\n",
       "    <tr>\n",
       "      <th>3331</th>\n",
       "      <td>160.770004</td>\n",
       "    </tr>\n",
       "    <tr>\n",
       "      <th>3332</th>\n",
       "      <td>162.360001</td>\n",
       "    </tr>\n",
       "    <tr>\n",
       "      <th>3333</th>\n",
       "      <td>164.899994</td>\n",
       "    </tr>\n",
       "    <tr>\n",
       "      <th>3334</th>\n",
       "      <td>166.169998</td>\n",
       "    </tr>\n",
       "    <tr>\n",
       "      <th>3335</th>\n",
       "      <td>165.630005</td>\n",
       "    </tr>\n",
       "  </tbody>\n",
       "</table>\n",
       "<p>1001 rows × 1 columns</p>\n",
       "</div>"
      ],
      "text/plain": [
       "           Close\n",
       "2335   49.807499\n",
       "2336   49.812500\n",
       "2337   50.782501\n",
       "2338   50.965000\n",
       "2339   51.132500\n",
       "...          ...\n",
       "3331  160.770004\n",
       "3332  162.360001\n",
       "3333  164.899994\n",
       "3334  166.169998\n",
       "3335  165.630005\n",
       "\n",
       "[1001 rows x 1 columns]"
      ]
     },
     "execution_count": 60,
     "metadata": {},
     "output_type": "execute_result"
    }
   ],
   "source": [
    "final_df = past_100_days.append(data_testing, ignore_index = True)\n",
    "data_testing"
   ]
  },
  {
   "cell_type": "code",
   "execution_count": 61,
   "id": "d22f0d36",
   "metadata": {},
   "outputs": [
    {
     "data": {
      "text/html": [
       "<div>\n",
       "<style scoped>\n",
       "    .dataframe tbody tr th:only-of-type {\n",
       "        vertical-align: middle;\n",
       "    }\n",
       "\n",
       "    .dataframe tbody tr th {\n",
       "        vertical-align: top;\n",
       "    }\n",
       "\n",
       "    .dataframe thead th {\n",
       "        text-align: right;\n",
       "    }\n",
       "</style>\n",
       "<table border=\"1\" class=\"dataframe\">\n",
       "  <thead>\n",
       "    <tr style=\"text-align: right;\">\n",
       "      <th></th>\n",
       "      <th>Close</th>\n",
       "    </tr>\n",
       "  </thead>\n",
       "  <tbody>\n",
       "    <tr>\n",
       "      <th>0</th>\n",
       "      <td>48.382500</td>\n",
       "    </tr>\n",
       "    <tr>\n",
       "      <th>1</th>\n",
       "      <td>46.465000</td>\n",
       "    </tr>\n",
       "    <tr>\n",
       "      <th>2</th>\n",
       "      <td>44.244999</td>\n",
       "    </tr>\n",
       "    <tr>\n",
       "      <th>3</th>\n",
       "      <td>44.195000</td>\n",
       "    </tr>\n",
       "    <tr>\n",
       "      <th>4</th>\n",
       "      <td>43.072498</td>\n",
       "    </tr>\n",
       "    <tr>\n",
       "      <th>...</th>\n",
       "      <td>...</td>\n",
       "    </tr>\n",
       "    <tr>\n",
       "      <th>1096</th>\n",
       "      <td>160.770004</td>\n",
       "    </tr>\n",
       "    <tr>\n",
       "      <th>1097</th>\n",
       "      <td>162.360001</td>\n",
       "    </tr>\n",
       "    <tr>\n",
       "      <th>1098</th>\n",
       "      <td>164.899994</td>\n",
       "    </tr>\n",
       "    <tr>\n",
       "      <th>1099</th>\n",
       "      <td>166.169998</td>\n",
       "    </tr>\n",
       "    <tr>\n",
       "      <th>1100</th>\n",
       "      <td>165.630005</td>\n",
       "    </tr>\n",
       "  </tbody>\n",
       "</table>\n",
       "<p>1101 rows × 1 columns</p>\n",
       "</div>"
      ],
      "text/plain": [
       "           Close\n",
       "0      48.382500\n",
       "1      46.465000\n",
       "2      44.244999\n",
       "3      44.195000\n",
       "4      43.072498\n",
       "...          ...\n",
       "1096  160.770004\n",
       "1097  162.360001\n",
       "1098  164.899994\n",
       "1099  166.169998\n",
       "1100  165.630005\n",
       "\n",
       "[1101 rows x 1 columns]"
      ]
     },
     "execution_count": 61,
     "metadata": {},
     "output_type": "execute_result"
    }
   ],
   "source": [
    "final_df"
   ]
  },
  {
   "cell_type": "code",
   "execution_count": 62,
   "id": "212de240",
   "metadata": {},
   "outputs": [
    {
     "data": {
      "text/plain": [
       "array([[0.08763335],\n",
       "       [0.07454126],\n",
       "       [0.05938379],\n",
       "       ...,\n",
       "       [0.88317828],\n",
       "       [0.89184947],\n",
       "       [0.88816257]])"
      ]
     },
     "execution_count": 62,
     "metadata": {},
     "output_type": "execute_result"
    }
   ],
   "source": [
    "input_data = scaler.fit_transform(final_df)\n",
    "input_data"
   ]
  },
  {
   "cell_type": "code",
   "execution_count": 63,
   "id": "6e4de0cd",
   "metadata": {},
   "outputs": [
    {
     "data": {
      "text/plain": [
       "(1101, 1)"
      ]
     },
     "execution_count": 63,
     "metadata": {},
     "output_type": "execute_result"
    }
   ],
   "source": [
    "input_data.shape"
   ]
  },
  {
   "cell_type": "code",
   "execution_count": 64,
   "id": "3c796f60",
   "metadata": {},
   "outputs": [],
   "source": [
    "x_test = []\n",
    "y_test = []\n",
    "\n",
    "for i in range (100, input_data.shape[0]):\n",
    "    x_test.append(input_data[i-100:i])\n",
    "    y_test.append(input_data[i,0])\n",
    "\n",
    "x_test,y_test = np.array(x_test), np.array(y_test)"
   ]
  },
  {
   "cell_type": "code",
   "execution_count": 65,
   "id": "47adc4ef",
   "metadata": {},
   "outputs": [
    {
     "name": "stdout",
     "output_type": "stream",
     "text": [
      "(1001, 100, 1)\n",
      "(1001,)\n"
     ]
    },
    {
     "data": {
      "text/plain": [
       "array([[[0.08763335],\n",
       "        [0.07454126],\n",
       "        [0.05938379],\n",
       "        ...,\n",
       "        [0.09973542],\n",
       "        [0.09688486],\n",
       "        [0.09674831]],\n",
       "\n",
       "       [[0.07454126],\n",
       "        [0.05938379],\n",
       "        [0.05904241],\n",
       "        ...,\n",
       "        [0.09688486],\n",
       "        [0.09674831],\n",
       "        [0.0973628 ]],\n",
       "\n",
       "       [[0.05938379],\n",
       "        [0.05904241],\n",
       "        [0.05137833],\n",
       "        ...,\n",
       "        [0.09674831],\n",
       "        [0.0973628 ],\n",
       "        [0.09739694]],\n",
       "\n",
       "       ...,\n",
       "\n",
       "       [[0.70210811],\n",
       "        [0.70579501],\n",
       "        [0.70975508],\n",
       "        ...,\n",
       "        [0.83367755],\n",
       "        [0.85498   ],\n",
       "        [0.865836  ]],\n",
       "\n",
       "       [[0.70579501],\n",
       "        [0.70975508],\n",
       "        [0.67814286],\n",
       "        ...,\n",
       "        [0.85498   ],\n",
       "        [0.865836  ],\n",
       "        [0.88317828]],\n",
       "\n",
       "       [[0.70975508],\n",
       "        [0.67814286],\n",
       "        [0.7600751 ],\n",
       "        ...,\n",
       "        [0.865836  ],\n",
       "        [0.88317828],\n",
       "        [0.89184947]]])"
      ]
     },
     "execution_count": 65,
     "metadata": {},
     "output_type": "execute_result"
    }
   ],
   "source": [
    "print(x_test.shape)\n",
    "\n",
    "print(y_test.shape)\n",
    "x_test"
   ]
  },
  {
   "cell_type": "code",
   "execution_count": 66,
   "id": "d190eb8f",
   "metadata": {},
   "outputs": [
    {
     "name": "stdout",
     "output_type": "stream",
     "text": [
      "32/32 [==============================] - 2s 74ms/step\n"
     ]
    }
   ],
   "source": [
    "y_predicted = model.predict(x_test)"
   ]
  },
  {
   "cell_type": "code",
   "execution_count": 67,
   "id": "4dc2d6f2",
   "metadata": {},
   "outputs": [
    {
     "data": {
      "text/plain": [
       "(1001, 1)"
      ]
     },
     "execution_count": 67,
     "metadata": {},
     "output_type": "execute_result"
    }
   ],
   "source": [
    "y_predicted.shape"
   ]
  },
  {
   "cell_type": "code",
   "execution_count": 68,
   "id": "6ebe2ec3",
   "metadata": {},
   "outputs": [
    {
     "data": {
      "text/plain": [
       "array([0.0973628 , 0.09739694, 0.10401981, ..., 0.88317828, 0.89184947,\n",
       "       0.88816257])"
      ]
     },
     "execution_count": 68,
     "metadata": {},
     "output_type": "execute_result"
    }
   ],
   "source": [
    "y_test"
   ]
  },
  {
   "cell_type": "code",
   "execution_count": 69,
   "id": "2dc85f95",
   "metadata": {},
   "outputs": [
    {
     "data": {
      "text/plain": [
       "array([[0.08433983],\n",
       "       [0.08546677],\n",
       "       [0.08659309],\n",
       "       ...,\n",
       "       [0.7664529 ],\n",
       "       [0.7698746 ],\n",
       "       [0.7734808 ]], dtype=float32)"
      ]
     },
     "execution_count": 69,
     "metadata": {},
     "output_type": "execute_result"
    }
   ],
   "source": [
    "y_predicted"
   ]
  },
  {
   "cell_type": "code",
   "execution_count": 70,
   "id": "8d34e286",
   "metadata": {},
   "outputs": [
    {
     "data": {
      "text/plain": [
       "array([0.00682769])"
      ]
     },
     "execution_count": 70,
     "metadata": {},
     "output_type": "execute_result"
    }
   ],
   "source": [
    "scaler.scale_"
   ]
  },
  {
   "cell_type": "code",
   "execution_count": 71,
   "id": "c33c28fa",
   "metadata": {},
   "outputs": [],
   "source": [
    "scaler_factor = 1/0.00682769\n",
    "y_predicted = y_predicted * scaler_factor\n",
    "y_test = y_test * scaler_factor\n"
   ]
  },
  {
   "cell_type": "code",
   "execution_count": 72,
   "id": "a823aca5",
   "metadata": {},
   "outputs": [
    {
     "data": {
      "image/png": "[encoded data removed]",
      "text/plain": [
       "<Figure size 1200x600 with 1 Axes>"
      ]
     },
     "metadata": {},
     "output_type": "display_data"
    }
   ],
   "source": [
    "plt.figure(figsize=(12,6))\n",
    "plt.plot(y_test, 'b', label = \"Original Values\")\n",
    "plt.plot(y_predicted , 'r' ,label = \"Predicted Values\")\n",
    "plt.xlabel('Time')\n",
    "plt.ylabel('Price')\n",
    "plt.legend()\n",
    "plt.show()"
   ]
  },
  {
   "cell_type": "code",
   "execution_count": 73,
   "id": "1e9bb53f",
   "metadata": {},
   "outputs": [
    {
     "data": {
      "text/plain": [
       "array([[ 12.352615],\n",
       "       [ 12.51767 ],\n",
       "       [ 12.682633],\n",
       "       ...,\n",
       "       [112.256546],\n",
       "       [112.75769 ],\n",
       "       [113.285866]], dtype=float32)"
      ]
     },
     "execution_count": 73,
     "metadata": {},
     "output_type": "execute_result"
    }
   ],
   "source": [
    "y_predicted"
   ]
  },
  {
   "cell_type": "code",
   "execution_count": 74,
   "id": "21a4c850",
   "metadata": {},
   "outputs": [
    {
     "name": "stdout",
     "output_type": "stream",
     "text": [
      "32/32 [==============================] - 2s 73ms/step\n",
      "Accuracy:--135219.23650579722\n"
     ]
    },
    {
     "data": {
      "text/plain": [
       "30.071710494150167"
      ]
     },
     "execution_count": 74,
     "metadata": {},
     "output_type": "execute_result"
    }
   ],
   "source": [
    "from sklearn.metrics import r2_score\n",
    "predictions = model.predict(x_test)\n",
    "print(f\"Accuracy:-{r2_score(predictions,y_test)}\")\n",
    "predictions = scaler.inverse_transform(predictions)\n",
    "rmse = np.sqrt(np.mean(predictions - y_test)**2)\n",
    "rmse\n",
    "# \n",
    "# print(f\"Accuracy:-{r2_score(predictions,y_test)}\")\n",
    "# rmse=np.sqrt(np.mean(y_predicted-y_test)**2)\n",
    "# rmse\n",
    "     "
   ]
  },
  {
   "cell_type": "code",
   "execution_count": 87,
   "id": "92df3e18",
   "metadata": {},
   "outputs": [
    {
     "name": "stdout",
     "output_type": "stream",
     "text": [
      "[*********************100%***********************]  1 of 1 completed\n"
     ]
    }
   ],
   "source": [
    "yf.pdr_override()\n",
    "start = '2010-1-1'\n",
    "end = '2023-4-5'\n",
    "stock = pdr.get_data_yahoo('AAPL', start=start,end=end)\n"
   ]
  },
  {
   "cell_type": "code",
   "execution_count": 88,
   "id": "5512aeb7",
   "metadata": {},
   "outputs": [],
   "source": [
    "new_df = stock.filter(['Close'])"
   ]
  },
  {
   "cell_type": "code",
   "execution_count": 89,
   "id": "44513720",
   "metadata": {},
   "outputs": [],
   "source": [
    "scaler = MinMaxScaler(feature_range=(0,1))\n",
    "last_60_days=new_df[-200:].values"
   ]
  },
  {
   "cell_type": "code",
   "execution_count": 90,
   "id": "e5f9823a",
   "metadata": {},
   "outputs": [],
   "source": [
    "last_100_days=new_df[-100:].values\n",
    "last_100_days_scaled=scaler.fit_transform(last_100_days)\n",
    "\n",
    "X_test=[]\n",
    "X_test.append(last_100_days_scaled)\n",
    "\n",
    "X_test=np.array(X_test)"
   ]
  },
  {
   "cell_type": "code",
   "execution_count": 83,
   "id": "71cbe23e",
   "metadata": {},
   "outputs": [
    {
     "name": "stdout",
     "output_type": "stream",
     "text": [
      "1/1 [==============================] - 0s 47ms/step\n"
     ]
    }
   ],
   "source": [
    "pred_price=model.predict(X_test)"
   ]
  },
  {
   "cell_type": "code",
   "execution_count": 93,
   "id": "54606e66",
   "metadata": {},
   "outputs": [
    {
     "name": "stdout",
     "output_type": "stream",
     "text": [
      "1/1 [==============================] - 0s 47ms/step\n"
     ]
    },
    {
     "data": {
      "text/plain": [
       "array([[156.0134]], dtype=float32)"
      ]
     },
     "execution_count": 93,
     "metadata": {},
     "output_type": "execute_result"
    }
   ],
   "source": [
    "#Get the predicted scaled price\n",
    "pred_price=model.predict(X_test)\n",
    "    #undo the scaling\n",
    "pred_price=scaler.inverse_transform(pred_price)\n",
    "pred_price"
   ]
  },
  {
   "cell_type": "code",
   "execution_count": 92,
   "id": "7318a766",
   "metadata": {},
   "outputs": [
    {
     "name": "stdout",
     "output_type": "stream",
     "text": [
      "1/1 [==============================] - 0s 60ms/step\n"
     ]
    },
    {
     "ename": "ValueError",
     "evalue": "cannot reshape array of size 1 into shape (4)",
     "output_type": "error",
     "traceback": [
      "\u001b[1;31m---------------------------------------------------------------------------\u001b[0m",
      "\u001b[1;31mValueError\u001b[0m                                Traceback (most recent call last)",
      "Cell \u001b[1;32mIn[92], line 5\u001b[0m\n\u001b[0;32m      3\u001b[0m pred_price\u001b[38;5;241m.\u001b[39mshape\n\u001b[0;32m      4\u001b[0m \u001b[38;5;66;03m#undo the scaling\u001b[39;00m\n\u001b[1;32m----> 5\u001b[0m pred_price \u001b[38;5;241m=\u001b[39m scaler\u001b[38;5;241m.\u001b[39minverse_transform(\u001b[43mpred_price\u001b[49m\u001b[38;5;241;43m.\u001b[39;49m\u001b[43mreshape\u001b[49m\u001b[43m(\u001b[49m\u001b[38;5;241;43m-\u001b[39;49m\u001b[38;5;241;43m1\u001b[39;49m\u001b[43m,\u001b[49m\u001b[43m \u001b[49m\u001b[38;5;241;43m4\u001b[39;49m\u001b[43m)\u001b[49m)\n\u001b[0;32m      6\u001b[0m \u001b[38;5;66;03m# pred_price=scaler.inverse_transform(pred_price)\u001b[39;00m\n\u001b[0;32m      7\u001b[0m \u001b[38;5;66;03m# print(pred_price)\u001b[39;00m\n",
      "\u001b[1;31mValueError\u001b[0m: cannot reshape array of size 1 into shape (4)"
     ]
    }
   ],
   "source": [
    "#Get the predicted scaled price\n",
    "pred_price=model.predict(X_test)\n",
    "pred_price.shape\n",
    "#undo the scaling\n",
    "pred_price = scaler.inverse_transform(pred_price.reshape(-1, 4))\n",
    "# pred_price=scaler.inverse_transform(pred_price)\n",
    "# print(pred_price)"
   ]
  },
  {
   "cell_type": "code",
   "execution_count": null,
   "id": "02acb95a",
   "metadata": {},
   "outputs": [],
   "source": [
    "model.evaluate(X_test,y_test)"
   ]
  },
  {
   "cell_type": "code",
   "execution_count": null,
   "id": "bc5920b1",
   "metadata": {},
   "outputs": [],
   "source": []
  }
 ],
 "metadata": {
  "kernelspec": {
   "display_name": "Python 3 (ipykernel)",
   "language": "python",
   "name": "python3"
  },
  "language_info": {
   "codemirror_mode": {
    "name": "ipython",
    "version": 3
   },
   "file_extension": ".py",
   "mimetype": "text/x-python",
   "name": "python",
   "nbconvert_exporter": "python",
   "pygments_lexer": "ipython3",
   "version": "3.11.1"
  }
 },
 "nbformat": 4,
 "nbformat_minor": 5
}
