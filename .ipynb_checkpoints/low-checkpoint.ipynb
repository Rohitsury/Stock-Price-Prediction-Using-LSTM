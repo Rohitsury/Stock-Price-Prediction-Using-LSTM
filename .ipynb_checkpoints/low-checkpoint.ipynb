{
 "cells": [
  {
   "cell_type": "code",
   "execution_count": 1,
   "id": "81bdb632",
   "metadata": {
    "scrolled": false
   },
   "outputs": [],
   "source": [
    "import numpy as np\n",
    "import pandas as pd\n",
    "import matplotlib.pyplot as plt\n",
    "from pandas_datareader import data as pdr\n",
    "from datetime import datetime\n",
    "import yfinance as yf"
   ]
  },
  {
   "cell_type": "code",
   "execution_count": 2,
   "id": "9dcf34d0",
   "metadata": {},
   "outputs": [
    {
     "name": "stdout",
     "output_type": "stream",
     "text": [
      "[*********************100%***********************]  1 of 1 completed\n"
     ]
    }
   ],
   "source": [
    "yf.pdr_override()\n",
    "start = '2010-1-1'\n",
    "end = '2023-4-5'\n",
    "df = pdr.get_data_yahoo('AAPL', start=start,end=end)\n",
    "df = df.reset_index()"
   ]
  },
  {
   "cell_type": "code",
   "execution_count": 3,
   "id": "8a3c4fa8",
   "metadata": {},
   "outputs": [
    {
     "data": {
      "text/html": [
       "<div>\n",
       "<style scoped>\n",
       "    .dataframe tbody tr th:only-of-type {\n",
       "        vertical-align: middle;\n",
       "    }\n",
       "\n",
       "    .dataframe tbody tr th {\n",
       "        vertical-align: top;\n",
       "    }\n",
       "\n",
       "    .dataframe thead th {\n",
       "        text-align: right;\n",
       "    }\n",
       "</style>\n",
       "<table border=\"1\" class=\"dataframe\">\n",
       "  <thead>\n",
       "    <tr style=\"text-align: right;\">\n",
       "      <th></th>\n",
       "      <th>Date</th>\n",
       "      <th>Open</th>\n",
       "      <th>High</th>\n",
       "      <th>Low</th>\n",
       "      <th>Close</th>\n",
       "      <th>Adj Close</th>\n",
       "      <th>Volume</th>\n",
       "    </tr>\n",
       "  </thead>\n",
       "  <tbody>\n",
       "    <tr>\n",
       "      <th>3331</th>\n",
       "      <td>2023-03-29</td>\n",
       "      <td>159.369995</td>\n",
       "      <td>161.050003</td>\n",
       "      <td>159.350006</td>\n",
       "      <td>160.770004</td>\n",
       "      <td>160.770004</td>\n",
       "      <td>51305700</td>\n",
       "    </tr>\n",
       "    <tr>\n",
       "      <th>3332</th>\n",
       "      <td>2023-03-30</td>\n",
       "      <td>161.529999</td>\n",
       "      <td>162.470001</td>\n",
       "      <td>161.270004</td>\n",
       "      <td>162.360001</td>\n",
       "      <td>162.360001</td>\n",
       "      <td>49501700</td>\n",
       "    </tr>\n",
       "    <tr>\n",
       "      <th>3333</th>\n",
       "      <td>2023-03-31</td>\n",
       "      <td>162.440002</td>\n",
       "      <td>165.000000</td>\n",
       "      <td>161.910004</td>\n",
       "      <td>164.899994</td>\n",
       "      <td>164.899994</td>\n",
       "      <td>68694700</td>\n",
       "    </tr>\n",
       "    <tr>\n",
       "      <th>3334</th>\n",
       "      <td>2023-04-03</td>\n",
       "      <td>164.270004</td>\n",
       "      <td>166.289993</td>\n",
       "      <td>164.220001</td>\n",
       "      <td>166.169998</td>\n",
       "      <td>166.169998</td>\n",
       "      <td>56976200</td>\n",
       "    </tr>\n",
       "    <tr>\n",
       "      <th>3335</th>\n",
       "      <td>2023-04-04</td>\n",
       "      <td>166.600006</td>\n",
       "      <td>166.839996</td>\n",
       "      <td>165.110001</td>\n",
       "      <td>165.630005</td>\n",
       "      <td>165.630005</td>\n",
       "      <td>46278300</td>\n",
       "    </tr>\n",
       "  </tbody>\n",
       "</table>\n",
       "</div>"
      ],
      "text/plain": [
       "           Date        Open        High         Low       Close   Adj Close  \\\n",
       "3331 2023-03-29  159.369995  161.050003  159.350006  160.770004  160.770004   \n",
       "3332 2023-03-30  161.529999  162.470001  161.270004  162.360001  162.360001   \n",
       "3333 2023-03-31  162.440002  165.000000  161.910004  164.899994  164.899994   \n",
       "3334 2023-04-03  164.270004  166.289993  164.220001  166.169998  166.169998   \n",
       "3335 2023-04-04  166.600006  166.839996  165.110001  165.630005  165.630005   \n",
       "\n",
       "        Volume  \n",
       "3331  51305700  \n",
       "3332  49501700  \n",
       "3333  68694700  \n",
       "3334  56976200  \n",
       "3335  46278300  "
      ]
     },
     "execution_count": 3,
     "metadata": {},
     "output_type": "execute_result"
    }
   ],
   "source": [
    "df.tail()"
   ]
  },
  {
   "cell_type": "code",
   "execution_count": 4,
   "id": "1745ac7e",
   "metadata": {},
   "outputs": [
    {
     "data": {
      "text/html": [
       "<div>\n",
       "<style scoped>\n",
       "    .dataframe tbody tr th:only-of-type {\n",
       "        vertical-align: middle;\n",
       "    }\n",
       "\n",
       "    .dataframe tbody tr th {\n",
       "        vertical-align: top;\n",
       "    }\n",
       "\n",
       "    .dataframe thead th {\n",
       "        text-align: right;\n",
       "    }\n",
       "</style>\n",
       "<table border=\"1\" class=\"dataframe\">\n",
       "  <thead>\n",
       "    <tr style=\"text-align: right;\">\n",
       "      <th></th>\n",
       "      <th>Open</th>\n",
       "      <th>High</th>\n",
       "      <th>Low</th>\n",
       "      <th>Close</th>\n",
       "      <th>Volume</th>\n",
       "    </tr>\n",
       "  </thead>\n",
       "  <tbody>\n",
       "    <tr>\n",
       "      <th>0</th>\n",
       "      <td>7.622500</td>\n",
       "      <td>7.660714</td>\n",
       "      <td>7.585000</td>\n",
       "      <td>7.643214</td>\n",
       "      <td>493729600</td>\n",
       "    </tr>\n",
       "    <tr>\n",
       "      <th>1</th>\n",
       "      <td>7.664286</td>\n",
       "      <td>7.699643</td>\n",
       "      <td>7.616071</td>\n",
       "      <td>7.656429</td>\n",
       "      <td>601904800</td>\n",
       "    </tr>\n",
       "    <tr>\n",
       "      <th>2</th>\n",
       "      <td>7.656429</td>\n",
       "      <td>7.686786</td>\n",
       "      <td>7.526786</td>\n",
       "      <td>7.534643</td>\n",
       "      <td>552160000</td>\n",
       "    </tr>\n",
       "    <tr>\n",
       "      <th>3</th>\n",
       "      <td>7.562500</td>\n",
       "      <td>7.571429</td>\n",
       "      <td>7.466071</td>\n",
       "      <td>7.520714</td>\n",
       "      <td>477131200</td>\n",
       "    </tr>\n",
       "    <tr>\n",
       "      <th>4</th>\n",
       "      <td>7.510714</td>\n",
       "      <td>7.571429</td>\n",
       "      <td>7.466429</td>\n",
       "      <td>7.570714</td>\n",
       "      <td>447610800</td>\n",
       "    </tr>\n",
       "  </tbody>\n",
       "</table>\n",
       "</div>"
      ],
      "text/plain": [
       "       Open      High       Low     Close     Volume\n",
       "0  7.622500  7.660714  7.585000  7.643214  493729600\n",
       "1  7.664286  7.699643  7.616071  7.656429  601904800\n",
       "2  7.656429  7.686786  7.526786  7.534643  552160000\n",
       "3  7.562500  7.571429  7.466071  7.520714  477131200\n",
       "4  7.510714  7.571429  7.466429  7.570714  447610800"
      ]
     },
     "execution_count": 4,
     "metadata": {},
     "output_type": "execute_result"
    }
   ],
   "source": [
    "df = df.drop(['Date','Adj Close'], axis =1)\n",
    "df.head()"
   ]
  },
  {
   "cell_type": "code",
   "execution_count": 9,
   "id": "c6cbabb2",
   "metadata": {},
   "outputs": [
    {
     "data": {
      "text/plain": [
       "[<matplotlib.lines.Line2D at 0x20302d27bd0>]"
      ]
     },
     "execution_count": 9,
     "metadata": {},
     "output_type": "execute_result"
    },
    {
     "data": {
      "image/png": "[encoded data removed]",
      "text/plain": [
       "<Figure size 640x480 with 1 Axes>"
      ]
     },
     "metadata": {},
     "output_type": "display_data"
    }
   ],
   "source": [
    "plt.plot(df.Close)"
   ]
  },
  {
   "cell_type": "code",
   "execution_count": 10,
   "id": "8cf20789",
   "metadata": {},
   "outputs": [
    {
     "data": {
      "text/plain": [
       "0              NaN\n",
       "1              NaN\n",
       "2              NaN\n",
       "3              NaN\n",
       "4              NaN\n",
       "           ...    \n",
       "3331    144.833499\n",
       "3332    145.068299\n",
       "3333    145.333499\n",
       "3334    145.605999\n",
       "3335    145.867299\n",
       "Name: Close, Length: 3336, dtype: float64"
      ]
     },
     "execution_count": 10,
     "metadata": {},
     "output_type": "execute_result"
    }
   ],
   "source": [
    "ma100 = df.Close.rolling(100).mean()\n",
    "ma100"
   ]
  },
  {
   "cell_type": "code",
   "execution_count": 11,
   "id": "2804cb40",
   "metadata": {},
   "outputs": [
    {
     "data": {
      "text/plain": [
       "[<matplotlib.lines.Line2D at 0x20306f369d0>]"
      ]
     },
     "execution_count": 11,
     "metadata": {},
     "output_type": "execute_result"
    },
    {
     "data": {
      "image/png": "[encoded data removed]",
      "text/plain": [
       "<Figure size 1200x600 with 1 Axes>"
      ]
     },
     "metadata": {},
     "output_type": "display_data"
    }
   ],
   "source": [
    "plt.figure(figsize = (12,6))\n",
    "plt.plot(df.Close)\n",
    "plt.plot(ma100, 'r')"
   ]
  },
  {
   "cell_type": "code",
   "execution_count": 12,
   "id": "28bd378c",
   "metadata": {},
   "outputs": [
    {
     "data": {
      "text/plain": [
       "0              NaN\n",
       "1              NaN\n",
       "2              NaN\n",
       "3              NaN\n",
       "4              NaN\n",
       "           ...    \n",
       "3331    148.185149\n",
       "3332    148.337549\n",
       "3333    148.498249\n",
       "3334    148.651950\n",
       "3335    148.829800\n",
       "Name: Close, Length: 3336, dtype: float64"
      ]
     },
     "execution_count": 12,
     "metadata": {},
     "output_type": "execute_result"
    }
   ],
   "source": [
    "ma200 = df.Close.rolling(200).mean()\n",
    "ma200"
   ]
  },
  {
   "cell_type": "code",
   "execution_count": 13,
   "id": "81b79d1c",
   "metadata": {},
   "outputs": [
    {
     "data": {
      "text/plain": [
       "[<matplotlib.lines.Line2D at 0x20307005750>]"
      ]
     },
     "execution_count": 13,
     "metadata": {},
     "output_type": "execute_result"
    },
    {
     "data": {
      "image/png": "[encoded data removed]",
      "text/plain": [
       "<Figure size 1200x600 with 1 Axes>"
      ]
     },
     "metadata": {},
     "output_type": "display_data"
    }
   ],
   "source": [
    "plt.figure(figsize = (12,6))\n",
    "plt.plot(df.Close)\n",
    "plt.plot(ma100, 'r')\n",
    "plt.plot(ma200,'g')"
   ]
  },
  {
   "cell_type": "code",
   "execution_count": 14,
   "id": "b148f270",
   "metadata": {},
   "outputs": [
    {
     "data": {
      "text/plain": [
       "(3336, 5)"
      ]
     },
     "execution_count": 14,
     "metadata": {},
     "output_type": "execute_result"
    }
   ],
   "source": [
    "df.shape"
   ]
  },
  {
   "cell_type": "code",
   "execution_count": 5,
   "id": "a5e62902",
   "metadata": {},
   "outputs": [
    {
     "name": "stdout",
     "output_type": "stream",
     "text": [
      "(2335, 1)\n",
      "(1001, 1)\n"
     ]
    }
   ],
   "source": [
    "# Split data into training and testing\n",
    "data_training = pd.DataFrame(df['Low'][0:int(len(df)*0.70)])\n",
    "data_testing = pd.DataFrame(df['Low'][int(len(df)*0.70):int(len(df))])\n",
    "\n",
    "print(data_training.shape)\n",
    "print(data_testing.shape)"
   ]
  },
  {
   "cell_type": "code",
   "execution_count": 6,
   "id": "902e4b27",
   "metadata": {},
   "outputs": [
    {
     "data": {
      "text/html": [
       "<div>\n",
       "<style scoped>\n",
       "    .dataframe tbody tr th:only-of-type {\n",
       "        vertical-align: middle;\n",
       "    }\n",
       "\n",
       "    .dataframe tbody tr th {\n",
       "        vertical-align: top;\n",
       "    }\n",
       "\n",
       "    .dataframe thead th {\n",
       "        text-align: right;\n",
       "    }\n",
       "</style>\n",
       "<table border=\"1\" class=\"dataframe\">\n",
       "  <thead>\n",
       "    <tr style=\"text-align: right;\">\n",
       "      <th></th>\n",
       "      <th>Low</th>\n",
       "    </tr>\n",
       "  </thead>\n",
       "  <tbody>\n",
       "    <tr>\n",
       "      <th>2330</th>\n",
       "      <td>49.084999</td>\n",
       "    </tr>\n",
       "    <tr>\n",
       "      <th>2331</th>\n",
       "      <td>49.807499</td>\n",
       "    </tr>\n",
       "    <tr>\n",
       "      <th>2332</th>\n",
       "      <td>49.544998</td>\n",
       "    </tr>\n",
       "    <tr>\n",
       "      <th>2333</th>\n",
       "      <td>49.610001</td>\n",
       "    </tr>\n",
       "    <tr>\n",
       "      <th>2334</th>\n",
       "      <td>49.052502</td>\n",
       "    </tr>\n",
       "  </tbody>\n",
       "</table>\n",
       "</div>"
      ],
      "text/plain": [
       "            Low\n",
       "2330  49.084999\n",
       "2331  49.807499\n",
       "2332  49.544998\n",
       "2333  49.610001\n",
       "2334  49.052502"
      ]
     },
     "execution_count": 6,
     "metadata": {},
     "output_type": "execute_result"
    }
   ],
   "source": [
    "data_training.tail()"
   ]
  },
  {
   "cell_type": "code",
   "execution_count": 7,
   "id": "4d733eaa",
   "metadata": {},
   "outputs": [
    {
     "data": {
      "text/html": [
       "<div>\n",
       "<style scoped>\n",
       "    .dataframe tbody tr th:only-of-type {\n",
       "        vertical-align: middle;\n",
       "    }\n",
       "\n",
       "    .dataframe tbody tr th {\n",
       "        vertical-align: top;\n",
       "    }\n",
       "\n",
       "    .dataframe thead th {\n",
       "        text-align: right;\n",
       "    }\n",
       "</style>\n",
       "<table border=\"1\" class=\"dataframe\">\n",
       "  <thead>\n",
       "    <tr style=\"text-align: right;\">\n",
       "      <th></th>\n",
       "      <th>Low</th>\n",
       "    </tr>\n",
       "  </thead>\n",
       "  <tbody>\n",
       "    <tr>\n",
       "      <th>2335</th>\n",
       "      <td>49.502499</td>\n",
       "    </tr>\n",
       "    <tr>\n",
       "      <th>2336</th>\n",
       "      <td>49.639999</td>\n",
       "    </tr>\n",
       "    <tr>\n",
       "      <th>2337</th>\n",
       "      <td>49.652500</td>\n",
       "    </tr>\n",
       "    <tr>\n",
       "      <th>2338</th>\n",
       "      <td>50.630001</td>\n",
       "    </tr>\n",
       "    <tr>\n",
       "      <th>2339</th>\n",
       "      <td>50.584999</td>\n",
       "    </tr>\n",
       "  </tbody>\n",
       "</table>\n",
       "</div>"
      ],
      "text/plain": [
       "            Low\n",
       "2335  49.502499\n",
       "2336  49.639999\n",
       "2337  49.652500\n",
       "2338  50.630001\n",
       "2339  50.584999"
      ]
     },
     "execution_count": 7,
     "metadata": {},
     "output_type": "execute_result"
    }
   ],
   "source": [
    "data_testing.head()"
   ]
  },
  {
   "cell_type": "code",
   "execution_count": 8,
   "id": "a2b660df",
   "metadata": {},
   "outputs": [],
   "source": [
    "from sklearn.preprocessing import MinMaxScaler\n",
    "scaler = MinMaxScaler(feature_range=(0,1))"
   ]
  },
  {
   "cell_type": "code",
   "execution_count": 9,
   "id": "66905e9d",
   "metadata": {},
   "outputs": [
    {
     "data": {
      "text/plain": [
       "array([[0.01560418],\n",
       "       [0.01621762],\n",
       "       [0.01445484],\n",
       "       ...,\n",
       "       [0.84402871],\n",
       "       [0.84531207],\n",
       "       [0.83430525]])"
      ]
     },
     "execution_count": 9,
     "metadata": {},
     "output_type": "execute_result"
    }
   ],
   "source": [
    "data_training_array = scaler.fit_transform(data_training)\n",
    "data_training_array"
   ]
  },
  {
   "cell_type": "code",
   "execution_count": 10,
   "id": "52814fa1",
   "metadata": {},
   "outputs": [],
   "source": [
    "x_train = []\n",
    "y_train = []\n",
    "\n",
    "for i in range(100, data_training_array.shape[0]):\n",
    "    x_train.append(data_training_array[i-100:i])\n",
    "    y_train.append(data_training_array[i,0])\n",
    "\n",
    "x_train, y_train = np.array(x_train), np.array(y_train)"
   ]
  },
  {
   "cell_type": "code",
   "execution_count": null,
   "id": "867badf8",
   "metadata": {},
   "outputs": [],
   "source": [
    "from keras.layers import Dense, Dropout, LSTM\n",
    "from keras.models import Sequential"
   ]
  },
  {
   "cell_type": "code",
   "execution_count": null,
   "id": "078e6530",
   "metadata": {},
   "outputs": [],
   "source": [
    "model = Sequential()\n",
    "model.add(LSTM(units=50, activation=\"relu\", return_sequences = True,\n",
    "              input_shape= (x_train.shape[1],1)))\n",
    "model.add(Dropout(0.2))\n",
    "\n",
    "model.add(LSTM(units=60, activation=\"relu\", return_sequences = True))\n",
    "model.add(Dropout(0.3))\n",
    "\n",
    "model.add(LSTM(units=80, activation=\"relu\", return_sequences = True))\n",
    "model.add(Dropout(0.4))\n",
    "\n",
    "model.add(LSTM(units=20, activation=\"relu\"))\n",
    "model.add(Dropout(0.5))\n",
    "\n",
    "model.add(Dense(units = 1))\n",
    "\n",
    "model.summary()"
   ]
  },
  {
   "cell_type": "code",
   "execution_count": 158,
   "id": "2a1a425c",
   "metadata": {},
   "outputs": [
    {
     "name": "stdout",
     "output_type": "stream",
     "text": [
      "Epoch 1/100\n",
      "70/70 [==============================] - 43s 303ms/step - loss: 0.0530\n",
      "Epoch 2/100\n",
      "70/70 [==============================] - 21s 300ms/step - loss: 0.0205\n",
      "Epoch 3/100\n",
      "70/70 [==============================] - 21s 303ms/step - loss: 0.0163\n",
      "Epoch 4/100\n",
      "70/70 [==============================] - 21s 301ms/step - loss: 0.0145\n",
      "Epoch 5/100\n",
      "70/70 [==============================] - 21s 304ms/step - loss: 0.0131\n",
      "Epoch 6/100\n",
      "70/70 [==============================] - 23s 336ms/step - loss: 0.0123\n",
      "Epoch 7/100\n",
      "70/70 [==============================] - 22s 311ms/step - loss: 0.0102\n",
      "Epoch 8/100\n",
      "70/70 [==============================] - 22s 308ms/step - loss: 0.0100\n",
      "Epoch 9/100\n",
      "70/70 [==============================] - 22s 309ms/step - loss: 0.0087\n",
      "Epoch 10/100\n",
      "70/70 [==============================] - 21s 301ms/step - loss: 0.0081\n",
      "Epoch 11/100\n",
      "70/70 [==============================] - 21s 298ms/step - loss: 0.0079\n",
      "Epoch 12/100\n",
      "70/70 [==============================] - 21s 302ms/step - loss: 0.0072\n",
      "Epoch 13/100\n",
      "70/70 [==============================] - 21s 302ms/step - loss: 0.0074\n",
      "Epoch 14/100\n",
      "70/70 [==============================] - 21s 302ms/step - loss: 0.0066\n",
      "Epoch 15/100\n",
      "70/70 [==============================] - 21s 303ms/step - loss: 0.0060\n",
      "Epoch 16/100\n",
      "70/70 [==============================] - 21s 302ms/step - loss: 0.0064\n",
      "Epoch 17/100\n",
      "70/70 [==============================] - 21s 303ms/step - loss: 0.0064\n",
      "Epoch 18/100\n",
      "70/70 [==============================] - 21s 303ms/step - loss: 0.0063\n",
      "Epoch 19/100\n",
      "70/70 [==============================] - 21s 302ms/step - loss: 0.0057\n",
      "Epoch 20/100\n",
      "70/70 [==============================] - 20s 282ms/step - loss: 0.0058\n",
      "Epoch 21/100\n",
      "70/70 [==============================] - 22s 308ms/step - loss: 0.0057\n",
      "Epoch 22/100\n",
      "70/70 [==============================] - 21s 301ms/step - loss: 0.0056\n",
      "Epoch 23/100\n",
      "70/70 [==============================] - 21s 302ms/step - loss: 0.0055\n",
      "Epoch 24/100\n",
      "70/70 [==============================] - 21s 304ms/step - loss: 0.0059\n",
      "Epoch 25/100\n",
      "70/70 [==============================] - 21s 295ms/step - loss: 0.0060\n",
      "Epoch 26/100\n",
      "70/70 [==============================] - 21s 306ms/step - loss: 0.0054\n",
      "Epoch 27/100\n",
      "70/70 [==============================] - 21s 303ms/step - loss: 0.0057\n",
      "Epoch 28/100\n",
      "70/70 [==============================] - 21s 302ms/step - loss: 0.0058\n",
      "Epoch 29/100\n",
      "70/70 [==============================] - 21s 303ms/step - loss: 0.0055\n",
      "Epoch 30/100\n",
      "70/70 [==============================] - 21s 303ms/step - loss: 0.0055\n",
      "Epoch 31/100\n",
      "70/70 [==============================] - 21s 298ms/step - loss: 0.0060\n",
      "Epoch 32/100\n",
      "70/70 [==============================] - 21s 303ms/step - loss: 0.0055\n",
      "Epoch 33/100\n",
      "70/70 [==============================] - 21s 304ms/step - loss: 0.0055\n",
      "Epoch 34/100\n",
      "70/70 [==============================] - 21s 301ms/step - loss: 0.0057\n",
      "Epoch 35/100\n",
      "70/70 [==============================] - 21s 305ms/step - loss: 0.0056\n",
      "Epoch 36/100\n",
      "70/70 [==============================] - 21s 305ms/step - loss: 0.0054\n",
      "Epoch 37/100\n",
      "70/70 [==============================] - 21s 304ms/step - loss: 0.0059\n",
      "Epoch 38/100\n",
      "70/70 [==============================] - 21s 305ms/step - loss: 0.0056\n",
      "Epoch 39/100\n",
      "70/70 [==============================] - 21s 306ms/step - loss: 0.0057\n",
      "Epoch 40/100\n",
      "70/70 [==============================] - 21s 306ms/step - loss: 0.0059\n",
      "Epoch 41/100\n",
      "70/70 [==============================] - 21s 305ms/step - loss: 0.0057\n",
      "Epoch 42/100\n",
      "70/70 [==============================] - 21s 306ms/step - loss: 0.0058\n",
      "Epoch 43/100\n",
      "70/70 [==============================] - 21s 304ms/step - loss: 0.0054\n",
      "Epoch 44/100\n",
      "70/70 [==============================] - 21s 305ms/step - loss: 0.0060\n",
      "Epoch 45/100\n",
      "70/70 [==============================] - 21s 307ms/step - loss: 0.0050\n",
      "Epoch 46/100\n",
      "70/70 [==============================] - 21s 304ms/step - loss: 0.0055\n",
      "Epoch 47/100\n",
      "70/70 [==============================] - 21s 305ms/step - loss: 0.0055\n",
      "Epoch 48/100\n",
      "70/70 [==============================] - 21s 304ms/step - loss: 0.0058\n",
      "Epoch 49/100\n",
      "70/70 [==============================] - 21s 304ms/step - loss: 0.0053\n",
      "Epoch 50/100\n",
      "70/70 [==============================] - 20s 289ms/step - loss: 0.0054\n",
      "Epoch 51/100\n",
      "70/70 [==============================] - 21s 305ms/step - loss: 0.0058\n",
      "Epoch 52/100\n",
      "70/70 [==============================] - 21s 305ms/step - loss: 0.0059\n",
      "Epoch 53/100\n",
      "70/70 [==============================] - 21s 303ms/step - loss: 0.0056\n",
      "Epoch 54/100\n",
      "70/70 [==============================] - 21s 305ms/step - loss: 0.0054\n",
      "Epoch 55/100\n",
      "70/70 [==============================] - 21s 303ms/step - loss: 0.0055\n",
      "Epoch 56/100\n",
      "70/70 [==============================] - 22s 318ms/step - loss: 0.0056\n",
      "Epoch 57/100\n",
      "70/70 [==============================] - 22s 310ms/step - loss: 0.0055\n",
      "Epoch 58/100\n",
      "70/70 [==============================] - 21s 305ms/step - loss: 0.0054\n",
      "Epoch 59/100\n",
      "70/70 [==============================] - 21s 305ms/step - loss: 0.0059\n",
      "Epoch 60/100\n",
      "70/70 [==============================] - 21s 304ms/step - loss: 0.0054\n",
      "Epoch 61/100\n",
      "70/70 [==============================] - 21s 304ms/step - loss: 0.0057\n",
      "Epoch 62/100\n",
      "70/70 [==============================] - 21s 303ms/step - loss: 0.0054\n",
      "Epoch 63/100\n",
      "70/70 [==============================] - 21s 305ms/step - loss: 0.0053\n",
      "Epoch 64/100\n",
      "70/70 [==============================] - 21s 299ms/step - loss: 0.0056\n",
      "Epoch 65/100\n",
      "70/70 [==============================] - 21s 302ms/step - loss: 0.0053\n",
      "Epoch 66/100\n",
      "70/70 [==============================] - 21s 300ms/step - loss: 0.0053\n",
      "Epoch 67/100\n",
      "70/70 [==============================] - 21s 300ms/step - loss: 0.0055\n",
      "Epoch 68/100\n",
      "70/70 [==============================] - 21s 302ms/step - loss: 0.0058\n",
      "Epoch 69/100\n",
      "70/70 [==============================] - 21s 300ms/step - loss: 0.0054\n",
      "Epoch 70/100\n",
      "70/70 [==============================] - 21s 301ms/step - loss: 0.0053\n",
      "Epoch 71/100\n",
      "70/70 [==============================] - 21s 301ms/step - loss: 0.0056\n",
      "Epoch 72/100\n",
      "70/70 [==============================] - 21s 299ms/step - loss: 0.0057\n",
      "Epoch 73/100\n",
      "70/70 [==============================] - 21s 300ms/step - loss: 0.0055\n",
      "Epoch 74/100\n",
      "70/70 [==============================] - 21s 300ms/step - loss: 0.0051\n",
      "Epoch 75/100\n",
      "70/70 [==============================] - 21s 301ms/step - loss: 0.0058\n",
      "Epoch 76/100\n",
      "70/70 [==============================] - 21s 302ms/step - loss: 0.0050\n",
      "Epoch 77/100\n",
      "70/70 [==============================] - 21s 301ms/step - loss: 0.0061\n",
      "Epoch 78/100\n",
      "70/70 [==============================] - 21s 302ms/step - loss: 0.0059\n",
      "Epoch 79/100\n",
      "70/70 [==============================] - 21s 301ms/step - loss: 0.0055\n",
      "Epoch 80/100\n",
      "70/70 [==============================] - 21s 294ms/step - loss: 0.0054\n",
      "Epoch 81/100\n",
      "70/70 [==============================] - 21s 301ms/step - loss: 0.0051\n",
      "Epoch 82/100\n",
      "70/70 [==============================] - 21s 300ms/step - loss: 0.0054\n",
      "Epoch 83/100\n",
      "70/70 [==============================] - 21s 304ms/step - loss: 0.0053\n",
      "Epoch 84/100\n",
      "70/70 [==============================] - 21s 298ms/step - loss: 0.0053\n",
      "Epoch 85/100\n",
      "70/70 [==============================] - 21s 300ms/step - loss: 0.0056\n",
      "Epoch 86/100\n",
      "70/70 [==============================] - 21s 300ms/step - loss: 0.0054\n",
      "Epoch 87/100\n",
      "70/70 [==============================] - 21s 300ms/step - loss: 0.0052\n",
      "Epoch 88/100\n",
      "70/70 [==============================] - 21s 301ms/step - loss: 0.0050\n",
      "Epoch 89/100\n",
      "70/70 [==============================] - 21s 300ms/step - loss: 0.0059\n",
      "Epoch 90/100\n",
      "70/70 [==============================] - 21s 299ms/step - loss: 0.0055\n",
      "Epoch 91/100\n",
      "70/70 [==============================] - 21s 299ms/step - loss: 0.0060\n",
      "Epoch 92/100\n",
      "70/70 [==============================] - 21s 301ms/step - loss: 0.0054\n",
      "Epoch 93/100\n",
      "70/70 [==============================] - 21s 304ms/step - loss: 0.0054\n",
      "Epoch 94/100\n",
      "70/70 [==============================] - 21s 303ms/step - loss: 0.0054\n",
      "Epoch 95/100\n",
      "70/70 [==============================] - 21s 303ms/step - loss: 0.0057\n",
      "Epoch 96/100\n",
      "70/70 [==============================] - 21s 303ms/step - loss: 0.0053\n",
      "Epoch 97/100\n",
      "70/70 [==============================] - 21s 304ms/step - loss: 0.0054\n",
      "Epoch 98/100\n",
      "70/70 [==============================] - 21s 306ms/step - loss: 0.0059\n",
      "Epoch 99/100\n",
      "70/70 [==============================] - 21s 305ms/step - loss: 0.0056\n",
      "Epoch 100/100\n",
      "70/70 [==============================] - 21s 306ms/step - loss: 0.0053\n"
     ]
    },
    {
     "data": {
      "text/plain": [
       "<keras.callbacks.History at 0x2478ea43dd0>"
      ]
     },
     "execution_count": 158,
     "metadata": {},
     "output_type": "execute_result"
    }
   ],
   "source": [
    "model.compile(optimizer='adam',loss='mean_squared_error')\n",
    "model.fit(x_train, y_train, epochs = 100)"
   ]
  },
  {
   "cell_type": "code",
   "execution_count": 160,
   "id": "9accf8ed",
   "metadata": {},
   "outputs": [],
   "source": [
    "model.save('LSTM_model.h5')"
   ]
  },
  {
   "cell_type": "code",
   "execution_count": 161,
   "id": "19bc8023",
   "metadata": {},
   "outputs": [
    {
     "data": {
      "text/html": [
       "<div>\n",
       "<style scoped>\n",
       "    .dataframe tbody tr th:only-of-type {\n",
       "        vertical-align: middle;\n",
       "    }\n",
       "\n",
       "    .dataframe tbody tr th {\n",
       "        vertical-align: top;\n",
       "    }\n",
       "\n",
       "    .dataframe thead th {\n",
       "        text-align: right;\n",
       "    }\n",
       "</style>\n",
       "<table border=\"1\" class=\"dataframe\">\n",
       "  <thead>\n",
       "    <tr style=\"text-align: right;\">\n",
       "      <th></th>\n",
       "      <th>Close</th>\n",
       "    </tr>\n",
       "  </thead>\n",
       "  <tbody>\n",
       "    <tr>\n",
       "      <th>2335</th>\n",
       "      <td>49.807499</td>\n",
       "    </tr>\n",
       "    <tr>\n",
       "      <th>2336</th>\n",
       "      <td>49.812500</td>\n",
       "    </tr>\n",
       "    <tr>\n",
       "      <th>2337</th>\n",
       "      <td>50.782501</td>\n",
       "    </tr>\n",
       "    <tr>\n",
       "      <th>2338</th>\n",
       "      <td>50.965000</td>\n",
       "    </tr>\n",
       "    <tr>\n",
       "      <th>2339</th>\n",
       "      <td>51.132500</td>\n",
       "    </tr>\n",
       "  </tbody>\n",
       "</table>\n",
       "</div>"
      ],
      "text/plain": [
       "          Close\n",
       "2335  49.807499\n",
       "2336  49.812500\n",
       "2337  50.782501\n",
       "2338  50.965000\n",
       "2339  51.132500"
      ]
     },
     "execution_count": 161,
     "metadata": {},
     "output_type": "execute_result"
    }
   ],
   "source": [
    "data_testing.head()"
   ]
  },
  {
   "cell_type": "code",
   "execution_count": 163,
   "id": "aa4d847c",
   "metadata": {},
   "outputs": [
    {
     "data": {
      "text/html": [
       "<div>\n",
       "<style scoped>\n",
       "    .dataframe tbody tr th:only-of-type {\n",
       "        vertical-align: middle;\n",
       "    }\n",
       "\n",
       "    .dataframe tbody tr th {\n",
       "        vertical-align: top;\n",
       "    }\n",
       "\n",
       "    .dataframe thead th {\n",
       "        text-align: right;\n",
       "    }\n",
       "</style>\n",
       "<table border=\"1\" class=\"dataframe\">\n",
       "  <thead>\n",
       "    <tr style=\"text-align: right;\">\n",
       "      <th></th>\n",
       "      <th>Close</th>\n",
       "    </tr>\n",
       "  </thead>\n",
       "  <tbody>\n",
       "    <tr>\n",
       "      <th>2235</th>\n",
       "      <td>48.382500</td>\n",
       "    </tr>\n",
       "    <tr>\n",
       "      <th>2236</th>\n",
       "      <td>46.465000</td>\n",
       "    </tr>\n",
       "    <tr>\n",
       "      <th>2237</th>\n",
       "      <td>44.244999</td>\n",
       "    </tr>\n",
       "    <tr>\n",
       "      <th>2238</th>\n",
       "      <td>44.195000</td>\n",
       "    </tr>\n",
       "    <tr>\n",
       "      <th>2239</th>\n",
       "      <td>43.072498</td>\n",
       "    </tr>\n",
       "    <tr>\n",
       "      <th>...</th>\n",
       "      <td>...</td>\n",
       "    </tr>\n",
       "    <tr>\n",
       "      <th>2330</th>\n",
       "      <td>50.025002</td>\n",
       "    </tr>\n",
       "    <tr>\n",
       "      <th>2331</th>\n",
       "      <td>49.875000</td>\n",
       "    </tr>\n",
       "    <tr>\n",
       "      <th>2332</th>\n",
       "      <td>50.154999</td>\n",
       "    </tr>\n",
       "    <tr>\n",
       "      <th>2333</th>\n",
       "      <td>49.737499</td>\n",
       "    </tr>\n",
       "    <tr>\n",
       "      <th>2334</th>\n",
       "      <td>49.717499</td>\n",
       "    </tr>\n",
       "  </tbody>\n",
       "</table>\n",
       "<p>100 rows × 1 columns</p>\n",
       "</div>"
      ],
      "text/plain": [
       "          Close\n",
       "2235  48.382500\n",
       "2236  46.465000\n",
       "2237  44.244999\n",
       "2238  44.195000\n",
       "2239  43.072498\n",
       "...         ...\n",
       "2330  50.025002\n",
       "2331  49.875000\n",
       "2332  50.154999\n",
       "2333  49.737499\n",
       "2334  49.717499\n",
       "\n",
       "[100 rows x 1 columns]"
      ]
     },
     "execution_count": 163,
     "metadata": {},
     "output_type": "execute_result"
    }
   ],
   "source": [
    "data_training.tail(100)"
   ]
  },
  {
   "cell_type": "code",
   "execution_count": 164,
   "id": "32c07a56",
   "metadata": {},
   "outputs": [
    {
     "name": "stdout",
     "output_type": "stream",
     "text": [
      "          Close\n",
      "2235  48.382500\n",
      "2236  46.465000\n",
      "2237  44.244999\n",
      "2238  44.195000\n",
      "2239  43.072498\n",
      "...         ...\n",
      "2330  50.025002\n",
      "2331  49.875000\n",
      "2332  50.154999\n",
      "2333  49.737499\n",
      "2334  49.717499\n",
      "\n",
      "[100 rows x 1 columns]\n"
     ]
    }
   ],
   "source": [
    "past_100_days = data_training.tail(100)\n",
    "print(past_100_days)\n"
   ]
  },
  {
   "cell_type": "code",
   "execution_count": 165,
   "id": "256ef233",
   "metadata": {},
   "outputs": [
    {
     "name": "stderr",
     "output_type": "stream",
     "text": [
      "C:\\Users\\hp\\AppData\\Local\\Temp\\ipykernel_13788\\3013218201.py:1: FutureWarning: The frame.append method is deprecated and will be removed from pandas in a future version. Use pandas.concat instead.\n",
      "  final_df = past_100_days.append(data_testing, ignore_index = True)\n"
     ]
    },
    {
     "data": {
      "text/html": [
       "<div>\n",
       "<style scoped>\n",
       "    .dataframe tbody tr th:only-of-type {\n",
       "        vertical-align: middle;\n",
       "    }\n",
       "\n",
       "    .dataframe tbody tr th {\n",
       "        vertical-align: top;\n",
       "    }\n",
       "\n",
       "    .dataframe thead th {\n",
       "        text-align: right;\n",
       "    }\n",
       "</style>\n",
       "<table border=\"1\" class=\"dataframe\">\n",
       "  <thead>\n",
       "    <tr style=\"text-align: right;\">\n",
       "      <th></th>\n",
       "      <th>Close</th>\n",
       "    </tr>\n",
       "  </thead>\n",
       "  <tbody>\n",
       "    <tr>\n",
       "      <th>2335</th>\n",
       "      <td>49.807499</td>\n",
       "    </tr>\n",
       "    <tr>\n",
       "      <th>2336</th>\n",
       "      <td>49.812500</td>\n",
       "    </tr>\n",
       "    <tr>\n",
       "      <th>2337</th>\n",
       "      <td>50.782501</td>\n",
       "    </tr>\n",
       "    <tr>\n",
       "      <th>2338</th>\n",
       "      <td>50.965000</td>\n",
       "    </tr>\n",
       "    <tr>\n",
       "      <th>2339</th>\n",
       "      <td>51.132500</td>\n",
       "    </tr>\n",
       "    <tr>\n",
       "      <th>...</th>\n",
       "      <td>...</td>\n",
       "    </tr>\n",
       "    <tr>\n",
       "      <th>3331</th>\n",
       "      <td>160.770004</td>\n",
       "    </tr>\n",
       "    <tr>\n",
       "      <th>3332</th>\n",
       "      <td>162.360001</td>\n",
       "    </tr>\n",
       "    <tr>\n",
       "      <th>3333</th>\n",
       "      <td>164.899994</td>\n",
       "    </tr>\n",
       "    <tr>\n",
       "      <th>3334</th>\n",
       "      <td>166.169998</td>\n",
       "    </tr>\n",
       "    <tr>\n",
       "      <th>3335</th>\n",
       "      <td>165.630005</td>\n",
       "    </tr>\n",
       "  </tbody>\n",
       "</table>\n",
       "<p>1001 rows × 1 columns</p>\n",
       "</div>"
      ],
      "text/plain": [
       "           Close\n",
       "2335   49.807499\n",
       "2336   49.812500\n",
       "2337   50.782501\n",
       "2338   50.965000\n",
       "2339   51.132500\n",
       "...          ...\n",
       "3331  160.770004\n",
       "3332  162.360001\n",
       "3333  164.899994\n",
       "3334  166.169998\n",
       "3335  165.630005\n",
       "\n",
       "[1001 rows x 1 columns]"
      ]
     },
     "execution_count": 165,
     "metadata": {},
     "output_type": "execute_result"
    }
   ],
   "source": [
    "final_df = past_100_days.append(data_testing, ignore_index = True)\n",
    "data_testing"
   ]
  },
  {
   "cell_type": "code",
   "execution_count": 166,
   "id": "d22f0d36",
   "metadata": {},
   "outputs": [
    {
     "data": {
      "text/html": [
       "<div>\n",
       "<style scoped>\n",
       "    .dataframe tbody tr th:only-of-type {\n",
       "        vertical-align: middle;\n",
       "    }\n",
       "\n",
       "    .dataframe tbody tr th {\n",
       "        vertical-align: top;\n",
       "    }\n",
       "\n",
       "    .dataframe thead th {\n",
       "        text-align: right;\n",
       "    }\n",
       "</style>\n",
       "<table border=\"1\" class=\"dataframe\">\n",
       "  <thead>\n",
       "    <tr style=\"text-align: right;\">\n",
       "      <th></th>\n",
       "      <th>Close</th>\n",
       "    </tr>\n",
       "  </thead>\n",
       "  <tbody>\n",
       "    <tr>\n",
       "      <th>0</th>\n",
       "      <td>48.382500</td>\n",
       "    </tr>\n",
       "    <tr>\n",
       "      <th>1</th>\n",
       "      <td>46.465000</td>\n",
       "    </tr>\n",
       "    <tr>\n",
       "      <th>2</th>\n",
       "      <td>44.244999</td>\n",
       "    </tr>\n",
       "    <tr>\n",
       "      <th>3</th>\n",
       "      <td>44.195000</td>\n",
       "    </tr>\n",
       "    <tr>\n",
       "      <th>4</th>\n",
       "      <td>43.072498</td>\n",
       "    </tr>\n",
       "    <tr>\n",
       "      <th>...</th>\n",
       "      <td>...</td>\n",
       "    </tr>\n",
       "    <tr>\n",
       "      <th>1096</th>\n",
       "      <td>160.770004</td>\n",
       "    </tr>\n",
       "    <tr>\n",
       "      <th>1097</th>\n",
       "      <td>162.360001</td>\n",
       "    </tr>\n",
       "    <tr>\n",
       "      <th>1098</th>\n",
       "      <td>164.899994</td>\n",
       "    </tr>\n",
       "    <tr>\n",
       "      <th>1099</th>\n",
       "      <td>166.169998</td>\n",
       "    </tr>\n",
       "    <tr>\n",
       "      <th>1100</th>\n",
       "      <td>165.630005</td>\n",
       "    </tr>\n",
       "  </tbody>\n",
       "</table>\n",
       "<p>1101 rows × 1 columns</p>\n",
       "</div>"
      ],
      "text/plain": [
       "           Close\n",
       "0      48.382500\n",
       "1      46.465000\n",
       "2      44.244999\n",
       "3      44.195000\n",
       "4      43.072498\n",
       "...          ...\n",
       "1096  160.770004\n",
       "1097  162.360001\n",
       "1098  164.899994\n",
       "1099  166.169998\n",
       "1100  165.630005\n",
       "\n",
       "[1101 rows x 1 columns]"
      ]
     },
     "execution_count": 166,
     "metadata": {},
     "output_type": "execute_result"
    }
   ],
   "source": [
    "final_df"
   ]
  },
  {
   "cell_type": "code",
   "execution_count": 167,
   "id": "212de240",
   "metadata": {},
   "outputs": [
    {
     "data": {
      "text/plain": [
       "array([[0.08763335],\n",
       "       [0.07454126],\n",
       "       [0.05938379],\n",
       "       ...,\n",
       "       [0.88317828],\n",
       "       [0.89184947],\n",
       "       [0.88816257]])"
      ]
     },
     "execution_count": 167,
     "metadata": {},
     "output_type": "execute_result"
    }
   ],
   "source": [
    "input_data = scaler.fit_transform(final_df)\n",
    "input_data"
   ]
  },
  {
   "cell_type": "code",
   "execution_count": 168,
   "id": "6e4de0cd",
   "metadata": {},
   "outputs": [
    {
     "data": {
      "text/plain": [
       "(1101, 1)"
      ]
     },
     "execution_count": 168,
     "metadata": {},
     "output_type": "execute_result"
    }
   ],
   "source": [
    "input_data.shape"
   ]
  },
  {
   "cell_type": "code",
   "execution_count": 169,
   "id": "3c796f60",
   "metadata": {},
   "outputs": [],
   "source": [
    "x_test = []\n",
    "y_test = []\n",
    "\n",
    "for i in range (100, input_data.shape[0]):\n",
    "    x_test.append(input_data[i-100:i])\n",
    "    y_test.append(input_data[i,0])\n",
    "\n",
    "x_test,y_test = np.array(x_test), np.array(y_test)"
   ]
  },
  {
   "cell_type": "code",
   "execution_count": 170,
   "id": "47adc4ef",
   "metadata": {},
   "outputs": [
    {
     "name": "stdout",
     "output_type": "stream",
     "text": [
      "(1001, 100, 1)\n",
      "(1001,)\n"
     ]
    },
    {
     "data": {
      "text/plain": [
       "array([[[0.08763335],\n",
       "        [0.07454126],\n",
       "        [0.05938379],\n",
       "        ...,\n",
       "        [0.09973542],\n",
       "        [0.09688486],\n",
       "        [0.09674831]],\n",
       "\n",
       "       [[0.07454126],\n",
       "        [0.05938379],\n",
       "        [0.05904241],\n",
       "        ...,\n",
       "        [0.09688486],\n",
       "        [0.09674831],\n",
       "        [0.0973628 ]],\n",
       "\n",
       "       [[0.05938379],\n",
       "        [0.05904241],\n",
       "        [0.05137833],\n",
       "        ...,\n",
       "        [0.09674831],\n",
       "        [0.0973628 ],\n",
       "        [0.09739694]],\n",
       "\n",
       "       ...,\n",
       "\n",
       "       [[0.70210811],\n",
       "        [0.70579501],\n",
       "        [0.70975508],\n",
       "        ...,\n",
       "        [0.83367755],\n",
       "        [0.85498   ],\n",
       "        [0.865836  ]],\n",
       "\n",
       "       [[0.70579501],\n",
       "        [0.70975508],\n",
       "        [0.67814286],\n",
       "        ...,\n",
       "        [0.85498   ],\n",
       "        [0.865836  ],\n",
       "        [0.88317828]],\n",
       "\n",
       "       [[0.70975508],\n",
       "        [0.67814286],\n",
       "        [0.7600751 ],\n",
       "        ...,\n",
       "        [0.865836  ],\n",
       "        [0.88317828],\n",
       "        [0.89184947]]])"
      ]
     },
     "execution_count": 170,
     "metadata": {},
     "output_type": "execute_result"
    }
   ],
   "source": [
    "print(x_test.shape)\n",
    "\n",
    "print(y_test.shape)\n",
    "x_test"
   ]
  },
  {
   "cell_type": "code",
   "execution_count": 171,
   "id": "d190eb8f",
   "metadata": {},
   "outputs": [
    {
     "name": "stdout",
     "output_type": "stream",
     "text": [
      "32/32 [==============================] - 5s 102ms/step\n"
     ]
    }
   ],
   "source": [
    "y_predicted = model.predict(x_test)"
   ]
  },
  {
   "cell_type": "code",
   "execution_count": 172,
   "id": "4dc2d6f2",
   "metadata": {},
   "outputs": [
    {
     "data": {
      "text/plain": [
       "(1001, 1)"
      ]
     },
     "execution_count": 172,
     "metadata": {},
     "output_type": "execute_result"
    }
   ],
   "source": [
    "y_predicted.shape"
   ]
  },
  {
   "cell_type": "code",
   "execution_count": 173,
   "id": "6ebe2ec3",
   "metadata": {},
   "outputs": [
    {
     "data": {
      "text/plain": [
       "array([0.0973628 , 0.09739694, 0.10401981, ..., 0.88317828, 0.89184947,\n",
       "       0.88816257])"
      ]
     },
     "execution_count": 173,
     "metadata": {},
     "output_type": "execute_result"
    }
   ],
   "source": [
    "y_test"
   ]
  },
  {
   "cell_type": "code",
   "execution_count": 174,
   "id": "2dc85f95",
   "metadata": {},
   "outputs": [
    {
     "data": {
      "text/plain": [
       "array([[0.15449764],\n",
       "       [0.15545991],\n",
       "       [0.15636244],\n",
       "       ...,\n",
       "       [0.7741153 ],\n",
       "       [0.7765226 ],\n",
       "       [0.7807306 ]], dtype=float32)"
      ]
     },
     "execution_count": 174,
     "metadata": {},
     "output_type": "execute_result"
    }
   ],
   "source": [
    "y_predicted"
   ]
  },
  {
   "cell_type": "code",
   "execution_count": 175,
   "id": "8d34e286",
   "metadata": {},
   "outputs": [
    {
     "data": {
      "text/plain": [
       "array([0.00682769])"
      ]
     },
     "execution_count": 175,
     "metadata": {},
     "output_type": "execute_result"
    }
   ],
   "source": [
    "scaler.scale_"
   ]
  },
  {
   "cell_type": "code",
   "execution_count": 176,
   "id": "c33c28fa",
   "metadata": {},
   "outputs": [],
   "source": [
    "scaler_factor = 1/0.00682769\n",
    "y_predicted = y_predicted * scaler_factor\n",
    "y_test = y_test * scaler_factor\n"
   ]
  },
  {
   "cell_type": "code",
   "execution_count": 178,
   "id": "a823aca5",
   "metadata": {},
   "outputs": [
    {
     "data": {
      "image/png": "[encoded data removed]",
      "text/plain": [
       "<Figure size 1200x600 with 1 Axes>"
      ]
     },
     "metadata": {},
     "output_type": "display_data"
    }
   ],
   "source": [
    "plt.figure(figsize=(12,6))\n",
    "plt.plot(y_test, 'b', label = \"Original Values\")\n",
    "plt.plot(y_predicted , 'r' ,label = \"Predicted Values\")\n",
    "plt.xlabel('Time')\n",
    "plt.ylabel('Price')\n",
    "plt.legend()\n",
    "plt.show()"
   ]
  },
  {
   "cell_type": "code",
   "execution_count": 179,
   "id": "1e9bb53f",
   "metadata": {},
   "outputs": [
    {
     "data": {
      "text/plain": [
       "array([[ 22.628098],\n",
       "       [ 22.769033],\n",
       "       [ 22.901222],\n",
       "       ...,\n",
       "       [113.3788  ],\n",
       "       [113.73138 ],\n",
       "       [114.347694]], dtype=float32)"
      ]
     },
     "execution_count": 179,
     "metadata": {},
     "output_type": "execute_result"
    }
   ],
   "source": [
    "y_predicted"
   ]
  },
  {
   "cell_type": "code",
   "execution_count": 180,
   "id": "21a4c850",
   "metadata": {},
   "outputs": [
    {
     "name": "stdout",
     "output_type": "stream",
     "text": [
      "32/32 [==============================] - 3s 101ms/step\n",
      "Accuracy:--165938.83810552105\n"
     ]
    },
    {
     "data": {
      "text/plain": [
       "31.525392539034"
      ]
     },
     "execution_count": 180,
     "metadata": {},
     "output_type": "execute_result"
    }
   ],
   "source": [
    "from sklearn.metrics import r2_score\n",
    "predictions = model.predict(x_test)\n",
    "print(f\"Accuracy:-{r2_score(predictions,y_test)}\")\n",
    "predictions = scaler.inverse_transform(predictions)\n",
    "rmse = np.sqrt(np.mean(predictions - y_test)**2)\n",
    "rmse\n",
    "# \n",
    "# print(f\"Accuracy:-{r2_score(predictions,y_test)}\")\n",
    "# rmse=np.sqrt(np.mean(y_predicted-y_test)**2)\n",
    "# rmse\n",
    "     "
   ]
  },
  {
   "cell_type": "code",
   "execution_count": 121,
   "id": "92df3e18",
   "metadata": {},
   "outputs": [
    {
     "name": "stdout",
     "output_type": "stream",
     "text": [
      "[*********************100%***********************]  1 of 1 completed\n"
     ]
    }
   ],
   "source": [
    "yf.pdr_override()\n",
    "start = '2010-1-1'\n",
    "end = '2023-4-5'\n",
    "stock = pdr.get_data_yahoo('TITAN.NS', start=start,end=end)"
   ]
  },
  {
   "cell_type": "code",
   "execution_count": 122,
   "id": "5512aeb7",
   "metadata": {},
   "outputs": [],
   "source": [
    "new_df=stock.filter(['Close'])"
   ]
  },
  {
   "cell_type": "code",
   "execution_count": 133,
   "id": "44513720",
   "metadata": {},
   "outputs": [],
   "source": [
    "last_60_days=new_df[-200:].values"
   ]
  },
  {
   "cell_type": "code",
   "execution_count": 134,
   "id": "e5f9823a",
   "metadata": {},
   "outputs": [
    {
     "name": "stderr",
     "output_type": "stream",
     "text": [
      "C:\\Users\\hp\\AppData\\Local\\Programs\\Python\\Python311\\Lib\\site-packages\\sklearn\\base.py:420: UserWarning: X does not have valid feature names, but MinMaxScaler was fitted with feature names\n",
      "  warnings.warn(\n"
     ]
    }
   ],
   "source": [
    "last_60_days_scaled=scaler.transform(last_60_days)"
   ]
  },
  {
   "cell_type": "code",
   "execution_count": 135,
   "id": "71cbe23e",
   "metadata": {},
   "outputs": [],
   "source": [
    "X_test=[]\n",
    "X_test.append(last_60_days_scaled)"
   ]
  },
  {
   "cell_type": "code",
   "execution_count": 136,
   "id": "54606e66",
   "metadata": {},
   "outputs": [],
   "source": [
    "X_test=np.array(X_test)"
   ]
  },
  {
   "cell_type": "code",
   "execution_count": 137,
   "id": "7318a766",
   "metadata": {},
   "outputs": [
    {
     "name": "stdout",
     "output_type": "stream",
     "text": [
      "1/1 [==============================] - 0s 79ms/step\n",
      "[[2288.2593]]\n"
     ]
    }
   ],
   "source": [
    "#Get the predicted scaled price\n",
    "pred_price=model.predict(X_test)\n",
    "#undo the scaling\n",
    "pred_price=scaler.inverse_transform(pred_price)\n",
    "print(pred_price)"
   ]
  },
  {
   "cell_type": "code",
   "execution_count": 139,
   "id": "02acb95a",
   "metadata": {},
   "outputs": [
    {
     "ename": "ValueError",
     "evalue": "Data cardinality is ambiguous:\n  x sizes: 1\n  y sizes: 982\nMake sure all arrays contain the same number of samples.",
     "output_type": "error",
     "traceback": [
      "\u001b[1;31m---------------------------------------------------------------------------\u001b[0m",
      "\u001b[1;31mValueError\u001b[0m                                Traceback (most recent call last)",
      "Cell \u001b[1;32mIn[139], line 1\u001b[0m\n\u001b[1;32m----> 1\u001b[0m \u001b[43mmodel\u001b[49m\u001b[38;5;241;43m.\u001b[39;49m\u001b[43mevaluate\u001b[49m\u001b[43m(\u001b[49m\u001b[43mX_test\u001b[49m\u001b[43m,\u001b[49m\u001b[43my_test\u001b[49m\u001b[43m)\u001b[49m\n",
      "File \u001b[1;32m~\\AppData\\Local\\Programs\\Python\\Python311\\Lib\\site-packages\\keras\\utils\\traceback_utils.py:70\u001b[0m, in \u001b[0;36mfilter_traceback.<locals>.error_handler\u001b[1;34m(*args, **kwargs)\u001b[0m\n\u001b[0;32m     67\u001b[0m     filtered_tb \u001b[38;5;241m=\u001b[39m _process_traceback_frames(e\u001b[38;5;241m.\u001b[39m__traceback__)\n\u001b[0;32m     68\u001b[0m     \u001b[38;5;66;03m# To get the full stack trace, call:\u001b[39;00m\n\u001b[0;32m     69\u001b[0m     \u001b[38;5;66;03m# `tf.debugging.disable_traceback_filtering()`\u001b[39;00m\n\u001b[1;32m---> 70\u001b[0m     \u001b[38;5;28;01mraise\u001b[39;00m e\u001b[38;5;241m.\u001b[39mwith_traceback(filtered_tb) \u001b[38;5;28;01mfrom\u001b[39;00m \u001b[38;5;28mNone\u001b[39m\n\u001b[0;32m     71\u001b[0m \u001b[38;5;28;01mfinally\u001b[39;00m:\n\u001b[0;32m     72\u001b[0m     \u001b[38;5;28;01mdel\u001b[39;00m filtered_tb\n",
      "File \u001b[1;32m~\\AppData\\Local\\Programs\\Python\\Python311\\Lib\\site-packages\\keras\\engine\\data_adapter.py:1852\u001b[0m, in \u001b[0;36m_check_data_cardinality\u001b[1;34m(data)\u001b[0m\n\u001b[0;32m   1845\u001b[0m     msg \u001b[38;5;241m+\u001b[39m\u001b[38;5;241m=\u001b[39m \u001b[38;5;124m\"\u001b[39m\u001b[38;5;124m  \u001b[39m\u001b[38;5;132;01m{}\u001b[39;00m\u001b[38;5;124m sizes: \u001b[39m\u001b[38;5;132;01m{}\u001b[39;00m\u001b[38;5;130;01m\\n\u001b[39;00m\u001b[38;5;124m\"\u001b[39m\u001b[38;5;241m.\u001b[39mformat(\n\u001b[0;32m   1846\u001b[0m         label,\n\u001b[0;32m   1847\u001b[0m         \u001b[38;5;124m\"\u001b[39m\u001b[38;5;124m, \u001b[39m\u001b[38;5;124m\"\u001b[39m\u001b[38;5;241m.\u001b[39mjoin(\n\u001b[0;32m   1848\u001b[0m             \u001b[38;5;28mstr\u001b[39m(i\u001b[38;5;241m.\u001b[39mshape[\u001b[38;5;241m0\u001b[39m]) \u001b[38;5;28;01mfor\u001b[39;00m i \u001b[38;5;129;01min\u001b[39;00m tf\u001b[38;5;241m.\u001b[39mnest\u001b[38;5;241m.\u001b[39mflatten(single_data)\n\u001b[0;32m   1849\u001b[0m         ),\n\u001b[0;32m   1850\u001b[0m     )\n\u001b[0;32m   1851\u001b[0m msg \u001b[38;5;241m+\u001b[39m\u001b[38;5;241m=\u001b[39m \u001b[38;5;124m\"\u001b[39m\u001b[38;5;124mMake sure all arrays contain the same number of samples.\u001b[39m\u001b[38;5;124m\"\u001b[39m\n\u001b[1;32m-> 1852\u001b[0m \u001b[38;5;28;01mraise\u001b[39;00m \u001b[38;5;167;01mValueError\u001b[39;00m(msg)\n",
      "\u001b[1;31mValueError\u001b[0m: Data cardinality is ambiguous:\n  x sizes: 1\n  y sizes: 982\nMake sure all arrays contain the same number of samples."
     ]
    }
   ],
   "source": [
    "model.evaluate(X_test,y_test)"
   ]
  },
  {
   "cell_type": "code",
   "execution_count": null,
   "id": "bc5920b1",
   "metadata": {},
   "outputs": [],
   "source": []
  }
 ],
 "metadata": {
  "kernelspec": {
   "display_name": "Python 3 (ipykernel)",
   "language": "python",
   "name": "python3"
  },
  "language_info": {
   "codemirror_mode": {
    "name": "ipython",
    "version": 3
   },
   "file_extension": ".py",
   "mimetype": "text/x-python",
   "name": "python",
   "nbconvert_exporter": "python",
   "pygments_lexer": "ipython3",
   "version": "3.11.1"
  }
 },
 "nbformat": 4,
 "nbformat_minor": 5
}
